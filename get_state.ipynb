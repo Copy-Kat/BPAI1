{
 "cells": [
  {
   "cell_type": "code",
   "execution_count": 1,
   "metadata": {},
   "outputs": [],
   "source": [
    "import pandas as pd"
   ]
  },
  {
   "cell_type": "code",
   "execution_count": 2,
   "metadata": {},
   "outputs": [],
   "source": [
    "df = pd.read_csv('datasets/Recipedb-companion-data/ar_gk_train.tsv', delimiter='\\t')"
   ]
  },
  {
   "cell_type": "code",
   "execution_count": 7,
   "metadata": {},
   "outputs": [
    {
     "data": {
      "text/plain": [
       "array(['divided', 'seeded', 'minced', 'sliced', 'pitted', 'ripe',\n",
       "       'condensed', 'uncooked', 'distilled', 'grated', 'cut', 'halved',\n",
       "       'lengthwise', 'canned', 'drained', 'pickled', 'chopped',\n",
       "       'fat-free', 'half', '2', '%', 'low-fat', 'softened', 'peeled',\n",
       "       'deveined', 'skinless', 'boneless', 'pecans', 'strong', 'brewed',\n",
       "       'juiced', 'ground', 'lean', 'crushed', 'squeezed', 'shredded',\n",
       "       'low-sodium', 'beaten', 'diced', 'boiling', 'melted', 'semisweet',\n",
       "       'sour', 'sweetened', 'separated', 'toasted', 'smoked', 'split',\n",
       "       'quartered', 'crunchy', 'unsweetened', 'slivered', 'cubed',\n",
       "       'pureed', 'thawed', 'unsalted', 'chilled', 'cooked', 'cleaned',\n",
       "       'sifted', 'rinsed', 'crumbled', 'heated', 'stewed', 'skinned',\n",
       "       'mashed', 'raw', 'firm', 'stemmed', 'flaked', 'pounded', 'skim',\n",
       "       'zested', 'soft', 'no-salt-added', 'bone-in', 'liquid', 'trimmed',\n",
       "       'undrained', 'torn', 'single', 'malt', 'hulled', 'broken',\n",
       "       'seedless', 'light', 'salt-added', 'blanched', '190', 'proof',\n",
       "       'cored', 'washed', 'part-skim', 'evaporated', 'pressed',\n",
       "       'julienned', 'creamy', 'unseasoned', 'corned', 'packed',\n",
       "       'unpeeled', 'powdered', 'Drained', 'un', 'fully-cooked',\n",
       "       'rindless', 'freeze-dried', 'filtered', 'poached', 'seasoned',\n",
       "       'superfine', 'stir-fry', 'silken-soft', 'grind', 'resealable',\n",
       "       'Ground', 'scrambled', 'julienne', 'with', 'bone', 'quick-cooking',\n",
       "       'carbonated', 'scrubbed', 'debearded', 'candied', 'granulated',\n",
       "       'crystallized', 'cracked', 'boiled', 'refrigerated', 'shelled',\n",
       "       'cooled', 'unbaked', 'chipped', 'Sliced', 'sun-dried', 'stirred',\n",
       "       'Grated', 'roasted', 'bottled', 'flat-leaf', 'warmed', 'grilled',\n",
       "       'nonfat', 'pre-cooked', 'no-sugar-added', 'long-grain', 'dice',\n",
       "       'baked', 'low', 'sodium', 'semi-sweet', 'mild', 'oven', 'ready',\n",
       "       'refried', 'no-boil', 'pure', 'unbleached', 'flat', 'Hulled',\n",
       "       'marinated', 'steamed', 'tinned', 'Diced', 'reduced-fat',\n",
       "       'Chopped', 'peeled-chunked', 'buttered', 'fat', 'free',\n",
       "       'concentrated', 'unflavored', 'hard-boiled', 'Sifted', 'fried',\n",
       "       'hard', 'stale', 'prepared', 'Shredded', 'reduced', 'thickened',\n",
       "       'dissolved', 'shucked', 'snipped', 'firm-ripe', 'deseeded',\n",
       "       'Minced', 'undiluted', 'fire-roasted', 'drained,thinly-sliced',\n",
       "       'Evaporated', 'crumbles', 'stewing'], dtype=object)"
      ]
     },
     "execution_count": 7,
     "metadata": {},
     "output_type": "execute_result"
    }
   ],
   "source": [
    "df[df['QUANTITY'] == 'STATE']['4'].unique()"
   ]
  },
  {
   "cell_type": "code",
   "execution_count": null,
   "metadata": {},
   "outputs": [],
   "source": []
  }
 ],
 "metadata": {
  "kernelspec": {
   "display_name": "base",
   "language": "python",
   "name": "python3"
  },
  "language_info": {
   "codemirror_mode": {
    "name": "ipython",
    "version": 3
   },
   "file_extension": ".py",
   "mimetype": "text/x-python",
   "name": "python",
   "nbconvert_exporter": "python",
   "pygments_lexer": "ipython3",
   "version": "3.9.18"
  }
 },
 "nbformat": 4,
 "nbformat_minor": 2
}
