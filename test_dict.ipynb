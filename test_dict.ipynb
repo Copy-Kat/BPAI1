{
 "cells": [
  {
   "cell_type": "code",
   "execution_count": 1,
   "metadata": {
    "metadata": {}
   },
   "outputs": [],
   "source": [
    "import pandas as pd\n",
    "\n",
    "df = pd.read_pickle(\"ingr_map.pkl\")"
   ]
  },
  {
   "cell_type": "code",
   "execution_count": 2,
   "metadata": {
    "metadata": {}
   },
   "outputs": [
    {
     "data": {
      "text/html": [
       "<div>\n",
       "<style scoped>\n",
       "    .dataframe tbody tr th:only-of-type {\n",
       "        vertical-align: middle;\n",
       "    }\n",
       "\n",
       "    .dataframe tbody tr th {\n",
       "        vertical-align: top;\n",
       "    }\n",
       "\n",
       "    .dataframe thead th {\n",
       "        text-align: right;\n",
       "    }\n",
       "</style>\n",
       "<table border=\"1\" class=\"dataframe\">\n",
       "  <thead>\n",
       "    <tr style=\"text-align: right;\">\n",
       "      <th></th>\n",
       "      <th>raw_ingr</th>\n",
       "      <th>raw_words</th>\n",
       "      <th>processed</th>\n",
       "      <th>len_proc</th>\n",
       "      <th>replaced</th>\n",
       "      <th>count</th>\n",
       "      <th>id</th>\n",
       "    </tr>\n",
       "  </thead>\n",
       "  <tbody>\n",
       "    <tr>\n",
       "      <th>0</th>\n",
       "      <td>medium heads bibb or red leaf lettuce, washed,...</td>\n",
       "      <td>13</td>\n",
       "      <td>medium heads bibb or red leaf lettuce, washed,...</td>\n",
       "      <td>73</td>\n",
       "      <td>lettuce</td>\n",
       "      <td>4507</td>\n",
       "      <td>4308</td>\n",
       "    </tr>\n",
       "    <tr>\n",
       "      <th>1</th>\n",
       "      <td>mixed baby lettuces and spring greens</td>\n",
       "      <td>6</td>\n",
       "      <td>mixed baby lettuces and spring green</td>\n",
       "      <td>36</td>\n",
       "      <td>lettuce</td>\n",
       "      <td>4507</td>\n",
       "      <td>4308</td>\n",
       "    </tr>\n",
       "    <tr>\n",
       "      <th>2</th>\n",
       "      <td>romaine lettuce leaf</td>\n",
       "      <td>3</td>\n",
       "      <td>romaine lettuce leaf</td>\n",
       "      <td>20</td>\n",
       "      <td>lettuce</td>\n",
       "      <td>4507</td>\n",
       "      <td>4308</td>\n",
       "    </tr>\n",
       "    <tr>\n",
       "      <th>3</th>\n",
       "      <td>iceberg lettuce leaf</td>\n",
       "      <td>3</td>\n",
       "      <td>iceberg lettuce leaf</td>\n",
       "      <td>20</td>\n",
       "      <td>lettuce</td>\n",
       "      <td>4507</td>\n",
       "      <td>4308</td>\n",
       "    </tr>\n",
       "    <tr>\n",
       "      <th>4</th>\n",
       "      <td>red romaine lettuce</td>\n",
       "      <td>3</td>\n",
       "      <td>red romaine lettuce</td>\n",
       "      <td>19</td>\n",
       "      <td>lettuce</td>\n",
       "      <td>4507</td>\n",
       "      <td>4308</td>\n",
       "    </tr>\n",
       "    <tr>\n",
       "      <th>...</th>\n",
       "      <td>...</td>\n",
       "      <td>...</td>\n",
       "      <td>...</td>\n",
       "      <td>...</td>\n",
       "      <td>...</td>\n",
       "      <td>...</td>\n",
       "      <td>...</td>\n",
       "    </tr>\n",
       "    <tr>\n",
       "      <th>11654</th>\n",
       "      <td>soybeans</td>\n",
       "      <td>1</td>\n",
       "      <td>soybean</td>\n",
       "      <td>7</td>\n",
       "      <td>soybean</td>\n",
       "      <td>31</td>\n",
       "      <td>6702</td>\n",
       "    </tr>\n",
       "    <tr>\n",
       "      <th>11655</th>\n",
       "      <td>goose</td>\n",
       "      <td>1</td>\n",
       "      <td>goose</td>\n",
       "      <td>5</td>\n",
       "      <td>goose</td>\n",
       "      <td>8</td>\n",
       "      <td>3318</td>\n",
       "    </tr>\n",
       "    <tr>\n",
       "      <th>11656</th>\n",
       "      <td>ajwain</td>\n",
       "      <td>1</td>\n",
       "      <td>ajwain</td>\n",
       "      <td>6</td>\n",
       "      <td>ajwain</td>\n",
       "      <td>13</td>\n",
       "      <td>47</td>\n",
       "    </tr>\n",
       "    <tr>\n",
       "      <th>11657</th>\n",
       "      <td>brinjals</td>\n",
       "      <td>1</td>\n",
       "      <td>brinjal</td>\n",
       "      <td>7</td>\n",
       "      <td>brinjal</td>\n",
       "      <td>2</td>\n",
       "      <td>750</td>\n",
       "    </tr>\n",
       "    <tr>\n",
       "      <th>11658</th>\n",
       "      <td>khoya</td>\n",
       "      <td>1</td>\n",
       "      <td>khoya</td>\n",
       "      <td>5</td>\n",
       "      <td>khoya</td>\n",
       "      <td>6</td>\n",
       "      <td>4061</td>\n",
       "    </tr>\n",
       "  </tbody>\n",
       "</table>\n",
       "<p>11659 rows × 7 columns</p>\n",
       "</div>"
      ],
      "text/plain": [
       "                                                raw_ingr  raw_words  \\\n",
       "0      medium heads bibb or red leaf lettuce, washed,...         13   \n",
       "1                  mixed baby lettuces and spring greens          6   \n",
       "2                                   romaine lettuce leaf          3   \n",
       "3                                   iceberg lettuce leaf          3   \n",
       "4                                    red romaine lettuce          3   \n",
       "...                                                  ...        ...   \n",
       "11654                                           soybeans          1   \n",
       "11655                                              goose          1   \n",
       "11656                                             ajwain          1   \n",
       "11657                                           brinjals          1   \n",
       "11658                                              khoya          1   \n",
       "\n",
       "                                               processed  len_proc replaced  \\\n",
       "0      medium heads bibb or red leaf lettuce, washed,...        73  lettuce   \n",
       "1                   mixed baby lettuces and spring green        36  lettuce   \n",
       "2                                   romaine lettuce leaf        20  lettuce   \n",
       "3                                   iceberg lettuce leaf        20  lettuce   \n",
       "4                                    red romaine lettuce        19  lettuce   \n",
       "...                                                  ...       ...      ...   \n",
       "11654                                            soybean         7  soybean   \n",
       "11655                                              goose         5    goose   \n",
       "11656                                             ajwain         6   ajwain   \n",
       "11657                                            brinjal         7  brinjal   \n",
       "11658                                              khoya         5    khoya   \n",
       "\n",
       "       count    id  \n",
       "0       4507  4308  \n",
       "1       4507  4308  \n",
       "2       4507  4308  \n",
       "3       4507  4308  \n",
       "4       4507  4308  \n",
       "...      ...   ...  \n",
       "11654     31  6702  \n",
       "11655      8  3318  \n",
       "11656     13    47  \n",
       "11657      2   750  \n",
       "11658      6  4061  \n",
       "\n",
       "[11659 rows x 7 columns]"
      ]
     },
     "execution_count": 2,
     "metadata": {},
     "output_type": "execute_result"
    }
   ],
   "source": [
    "df"
   ]
  },
  {
   "cell_type": "code",
   "execution_count": 2,
   "metadata": {
    "metadata": {}
   },
   "outputs": [],
   "source": [
    "df_clean = df[['replaced', 'id']].drop_duplicates().sort_values(by=['id'])"
   ]
  },
  {
   "cell_type": "code",
   "execution_count": 3,
   "metadata": {
    "metadata": {}
   },
   "outputs": [
    {
     "data": {
      "text/html": [
       "<div>\n",
       "<style scoped>\n",
       "    .dataframe tbody tr th:only-of-type {\n",
       "        vertical-align: middle;\n",
       "    }\n",
       "\n",
       "    .dataframe tbody tr th {\n",
       "        vertical-align: top;\n",
       "    }\n",
       "\n",
       "    .dataframe thead th {\n",
       "        text-align: right;\n",
       "    }\n",
       "</style>\n",
       "<table border=\"1\" class=\"dataframe\">\n",
       "  <thead>\n",
       "    <tr style=\"text-align: right;\">\n",
       "      <th></th>\n",
       "      <th>replaced</th>\n",
       "      <th>id</th>\n",
       "    </tr>\n",
       "  </thead>\n",
       "  <tbody>\n",
       "    <tr>\n",
       "      <th>3483</th>\n",
       "      <td>'s baking chocolate</td>\n",
       "      <td>0</td>\n",
       "    </tr>\n",
       "    <tr>\n",
       "      <th>3151</th>\n",
       "      <td>'s chocolate chip</td>\n",
       "      <td>1</td>\n",
       "    </tr>\n",
       "    <tr>\n",
       "      <th>4941</th>\n",
       "      <td>'s hugs chocolate</td>\n",
       "      <td>2</td>\n",
       "    </tr>\n",
       "    <tr>\n",
       "      <th>6931</th>\n",
       "      <td>'s sauce</td>\n",
       "      <td>3</td>\n",
       "    </tr>\n",
       "    <tr>\n",
       "      <th>5290</th>\n",
       "      <td>'s sour cream</td>\n",
       "      <td>4</td>\n",
       "    </tr>\n",
       "    <tr>\n",
       "      <th>...</th>\n",
       "      <td>...</td>\n",
       "      <td>...</td>\n",
       "    </tr>\n",
       "    <tr>\n",
       "      <th>9382</th>\n",
       "      <td>ziploc bag</td>\n",
       "      <td>8018</td>\n",
       "    </tr>\n",
       "    <tr>\n",
       "      <th>9638</th>\n",
       "      <td>ziti pastum</td>\n",
       "      <td>8019</td>\n",
       "    </tr>\n",
       "    <tr>\n",
       "      <th>7172</th>\n",
       "      <td>ziti rigatus</td>\n",
       "      <td>8020</td>\n",
       "    </tr>\n",
       "    <tr>\n",
       "      <th>2114</th>\n",
       "      <td>zucchini</td>\n",
       "      <td>8021</td>\n",
       "    </tr>\n",
       "    <tr>\n",
       "      <th>7609</th>\n",
       "      <td>zwieback toast</td>\n",
       "      <td>8022</td>\n",
       "    </tr>\n",
       "  </tbody>\n",
       "</table>\n",
       "<p>8023 rows × 2 columns</p>\n",
       "</div>"
      ],
      "text/plain": [
       "                 replaced    id\n",
       "3483  's baking chocolate     0\n",
       "3151    's chocolate chip     1\n",
       "4941    's hugs chocolate     2\n",
       "6931             's sauce     3\n",
       "5290        's sour cream     4\n",
       "...                   ...   ...\n",
       "9382           ziploc bag  8018\n",
       "9638          ziti pastum  8019\n",
       "7172         ziti rigatus  8020\n",
       "2114             zucchini  8021\n",
       "7609       zwieback toast  8022\n",
       "\n",
       "[8023 rows x 2 columns]"
      ]
     },
     "execution_count": 3,
     "metadata": {},
     "output_type": "execute_result"
    }
   ],
   "source": [
    "df_clean"
   ]
  },
  {
   "cell_type": "code",
   "execution_count": 5,
   "metadata": {
    "metadata": {}
   },
   "outputs": [],
   "source": [
    "df_clean.to_csv('ingredients_list_clean2.csv')"
   ]
  },
  {
   "cell_type": "code",
   "execution_count": 4,
   "metadata": {
    "metadata": {}
   },
   "outputs": [],
   "source": [
    "df_good_paper = pd.read_csv('ingredients_list_clean2.csv')\n",
    "df_koen = pd.read_csv('ingredient-list.csv', encoding='windows-1252')\n",
    "df_recipedb = pd.read_csv('ingredients_list_clean.csv')"
   ]
  },
  {
   "cell_type": "code",
   "execution_count": 5,
   "metadata": {
    "metadata": {}
   },
   "outputs": [],
   "source": [
    "df_good_paper.drop(columns=['Unnamed: 0', 'id'], inplace=True)\n",
    "df_good_paper.sort_values(by=['replaced'], inplace=True)\n",
    "\n",
    "df_koen.drop(columns=['Type of ingredient', 'Synonyms'], inplace=True)\n",
    "\n",
    "df_recipedb.drop(columns=['Unnamed: 0', 'link'], inplace=True)\n",
    "df_recipedb.sort_values(by=['ingredients'], inplace=True)"
   ]
  },
  {
   "cell_type": "code",
   "execution_count": 6,
   "metadata": {
    "metadata": {}
   },
   "outputs": [],
   "source": [
    "recipeDB = df_recipedb['ingredients'].to_list()\n",
    "koenDB = df_koen['Ingredient name'].to_list()\n",
    "paperDB = df_good_paper['replaced'].to_list()"
   ]
  },
  {
   "cell_type": "code",
   "execution_count": 47,
   "metadata": {
    "metadata": {}
   },
   "outputs": [
    {
     "name": "stdout",
     "output_type": "stream",
     "text": [
      "4210 3813\n"
     ]
    }
   ],
   "source": [
    "in_all_3 = []\n",
    "missing = []\n",
    "\n",
    "for i in paperDB:\n",
    "    if i in koenDB or i in recipeDB:\n",
    "        in_all_3.append(i)\n",
    "    else:\n",
    "        missing.append(i)\n",
    "        \n",
    "print(len(in_all_3), len(missing))"
   ]
  },
  {
   "cell_type": "code",
   "execution_count": 113,
   "metadata": {
    "metadata": {}
   },
   "outputs": [],
   "source": [
    "combined = koenDB + paperDB\n",
    "\n",
    "combined_clean = sorted(list(set(combined)))"
   ]
  },
  {
   "cell_type": "code",
   "execution_count": 65,
   "metadata": {
    "metadata": {}
   },
   "outputs": [],
   "source": [
    "with open('ingredients.txt', 'w') as f:\n",
    "    f.writelines([x+'\\n' for x in combined_clean])"
   ]
  },
  {
   "cell_type": "code",
   "execution_count": null,
   "metadata": {
    "metadata": {}
   },
   "outputs": [],
   "source": [
    "combined_clean"
   ]
  },
  {
   "cell_type": "code",
   "execution_count": 67,
   "metadata": {
    "metadata": {}
   },
   "outputs": [
    {
     "data": {
      "text/plain": [
       "2"
      ]
     },
     "execution_count": 67,
     "metadata": {},
     "output_type": "execute_result"
    }
   ],
   "source": [
    "from Levenshtein import distance\n",
    "\n",
    "distance(\"lewenstein\", \"levenshtein\")"
   ]
  },
  {
   "cell_type": "code",
   "execution_count": 89,
   "metadata": {
    "metadata": {}
   },
   "outputs": [],
   "source": [
    "cleanup = []\n",
    "temp = []\n",
    "\n",
    "for idx, i in enumerate(combined_clean):\n",
    "\n",
    "    if idx < len(combined_clean) - 2:\n",
    "        if 1 - cos.distance(i, combined_clean[idx+1]) > 0.85:\n",
    "            if temp == []:\n",
    "                cleanup.append(i)\n",
    "            else:\n",
    "                temp.append(i)\n",
    "                cleanup.append(temp)\n",
    "                temp = []\n",
    "                \n",
    "        else:\n",
    "            temp.append(i)"
   ]
  },
  {
   "cell_type": "code",
   "execution_count": 88,
   "metadata": {
    "metadata": {}
   },
   "outputs": [
    {
     "data": {
      "text/plain": [
       "0.8017837257372731"
      ]
     },
     "execution_count": 88,
     "metadata": {},
     "output_type": "execute_result"
    }
   ],
   "source": [
    "from strsimpy import Cosine\n",
    "\n",
    "cos = Cosine(1)\n",
    "\n",
    "1 - cos.distance('beets', 'bel paese cheese')"
   ]
  },
  {
   "cell_type": "code",
   "execution_count": null,
   "metadata": {
    "metadata": {}
   },
   "outputs": [],
   "source": [
    "cleanup"
   ]
  },
  {
   "cell_type": "code",
   "execution_count": 100,
   "metadata": {
    "metadata": {}
   },
   "outputs": [],
   "source": [
    "a = ['achiote',\n",
    "'achiote annato',\n",
    "'achiote oil',\n",
    "'achiote paste',\n",
    "'achiote paste cube',\n",
    "'achiote paste rehydrate pepper',\n",
    "'achiote powder',\n",
    "'achiote seed',\n",
    "'achiote seed annatto',\n",
    "'beer']"
   ]
  },
  {
   "cell_type": "code",
   "execution_count": null,
   "metadata": {},
   "outputs": [],
   "source": []
  },
  {
   "cell_type": "code",
   "execution_count": 114,
   "metadata": {
    "metadata": {}
   },
   "outputs": [],
   "source": [
    "tree = {}\n",
    "\n",
    "for i in combined_clean:\n",
    "    target = tree\n",
    "    tokens = i.split(' ')\n",
    "    \n",
    "    for idx, token in enumerate(tokens):\n",
    "        if token not in target:\n",
    "            target[token] = {}\n",
    "        target = target[token]\n",
    "                \n",
    "            "
   ]
  },
  {
   "cell_type": "code",
   "execution_count": null,
   "metadata": {},
   "outputs": [],
   "source": []
  },
  {
   "cell_type": "code",
   "execution_count": null,
   "metadata": {},
   "outputs": [],
   "source": []
  },
  {
   "cell_type": "code",
   "execution_count": 115,
   "metadata": {
    "metadata": {}
   },
   "outputs": [],
   "source": [
    "import json \n",
    "\n",
    "with open(\"tree.json\", \"w\") as outfile: \n",
    "    json.dump(tree, outfile)"
   ]
  },
  {
   "cell_type": "code",
   "execution_count": null,
   "metadata": {},
   "outputs": [],
   "source": [
    "{'achiote': {'annato': {},\n",
    "  'oil': {},\n",
    "  'paste': {'rehydrate': {'pepper': {}}},\n",
    "  'powder': {},\n",
    "  'seed': {'annatto': {}}},\n",
    " 'beer': {}}"
   ]
  },
  {
   "cell_type": "code",
   "execution_count": 7,
   "metadata": {},
   "outputs": [],
   "source": [
    "recipeDB = df_recipedb['ingredients'].to_list()\n",
    "koenDB = df_koen['Ingredient name'].to_list()\n",
    "paperDB = df_good_paper['replaced'].to_list()"
   ]
  },
  {
   "cell_type": "code",
   "execution_count": 76,
   "metadata": {},
   "outputs": [],
   "source": [
    "recipeDB_1 = [x for x in recipeDB if len(x.split(' ')) == 1]\n",
    "recipeDB_2 = [x for x in recipeDB if len(x.split(' ')) == 2]\n",
    "recipeDB_3 = [x for x in recipeDB if len(x.split(' ')) == 3]\n",
    "recipeDB_4 = [x for x in recipeDB if len(x.split(' ')) == 4]\n",
    "recipeDB_5 = [x for x in recipeDB if len(x.split(' ')) > 4]\n"
   ]
  },
  {
   "cell_type": "code",
   "execution_count": 74,
   "metadata": {},
   "outputs": [
    {
     "data": {
      "text/plain": [
       "1304"
      ]
     },
     "execution_count": 74,
     "metadata": {},
     "output_type": "execute_result"
    }
   ],
   "source": [
    "len(recipeDB_1)"
   ]
  },
  {
   "cell_type": "code",
   "execution_count": 78,
   "metadata": {},
   "outputs": [
    {
     "name": "stdout",
     "output_type": "stream",
     "text": [
      "486\n",
      "818\n",
      "1304\n",
      "1304\n"
     ]
    }
   ],
   "source": [
    "outer_recipeDB = []\n",
    "intersect_1_recipeDB = []\n",
    "\n",
    "for i in recipeDB_1:\n",
    "    if i not in intersect_1_total:\n",
    "        outer_recipeDB.append(i)\n",
    "    else:\n",
    "        intersect_1_recipeDB.append(i)\n",
    "        \n",
    "print(len(outer_recipeDB))\n",
    "print(len(intersect_1_recipeDB))\n",
    "print(len(outer_recipeDB + intersect_1_recipeDB))\n",
    "print(len(recipeDB_1))"
   ]
  },
  {
   "cell_type": "code",
   "execution_count": null,
   "metadata": {},
   "outputs": [],
   "source": [
    "with open('1_intersect.txt', 'r') as f:\n",
    "    intersect_1 = f.readlines()\n",
    "    \n",
    "intersect_1 = [x.strip() for x in intersect_1]\n",
    "    \n",
    "with open('1_out.txt', 'r') as f:\n",
    "    intersect_1_other = f.readlines()\n",
    "    \n",
    "intersect_1_other = [x.strip().split(' ')[0] for x in intersect_1_other if x.strip().split(' ')[1] == 'In']\n",
    "\n",
    "intersect_1_total = set(intersect_1 + intersect_1_other)"
   ]
  },
  {
   "cell_type": "code",
   "execution_count": 80,
   "metadata": {},
   "outputs": [],
   "source": [
    "from itertools import permutations \n",
    "\n",
    "def test_include(string, set_ingr, len):\n",
    "    perm = permutations(string.split(' '), len)\n",
    "    \n",
    "    for i in perm:\n",
    "        if ' '.join(i) in set_ingr:\n",
    "            return True\n",
    "    \n",
    "    return False\n",
    "\n",
    "assert test_include('bean', intersect_1_total, 1) == True\n",
    "assert test_include('bean', 'bean stalk', 1) == True\n",
    "assert test_include('bean stalk', intersect_1_total, 1) == True\n",
    "assert test_include('stalk', intersect_1_total, 1) == False"
   ]
  },
  {
   "cell_type": "code",
   "execution_count": 20,
   "metadata": {},
   "outputs": [],
   "source": [
    "with open('1_intersect.txt', 'r') as f:\n",
    "    intersect_1 = f.readlines()\n",
    "    \n",
    "intersect_1 = [x.strip() for x in intersect_1]\n",
    "    \n",
    "with open('1_out.txt', 'r') as f:\n",
    "    intersect_1_other = f.readlines()\n",
    "    \n",
    "intersect_1_other = [x.strip().split(' ')[0] for x in intersect_1_other if x.strip().split(' ')[1] == 'In']\n",
    "\n",
    "intersect_1_total = set(intersect_1 + intersect_1_other)"
   ]
  },
  {
   "cell_type": "code",
   "execution_count": 22,
   "metadata": {},
   "outputs": [
    {
     "data": {
      "text/plain": [
       "1555"
      ]
     },
     "execution_count": 22,
     "metadata": {},
     "output_type": "execute_result"
    }
   ],
   "source": [
    "len(intersect_1_total)"
   ]
  },
  {
   "cell_type": "code",
   "execution_count": 60,
   "metadata": {
    "metadata": {}
   },
   "outputs": [],
   "source": [
    "koenDB_1 = [x for x in koenDB if len(x.split(' ')) == 1]\n",
    "paperDB_1 = [x for x in paperDB if len(x.split(' ')) == 1]\n",
    "\n",
    "koenDB_2 = [x for x in koenDB if len(x.split(' ')) == 2]\n",
    "paperDB_2 = [x for x in paperDB if len(x.split(' ')) == 2]\n",
    "\n",
    "koenDB_3 = [x for x in koenDB if len(x.split(' ')) == 3]\n",
    "paperDB_3 = [x for x in paperDB if len(x.split(' ')) == 3]\n",
    "\n",
    "koenDB_4 = [x for x in koenDB if len(x.split(' ')) == 4]\n",
    "paperDB_4 = [x for x in paperDB if len(x.split(' ')) == 4]\n",
    "\n",
    "koenDB_5_plus = [x for x in koenDB if len(x.split(' ')) > 4]\n",
    "paperDB_5_plus = [x for x in paperDB if len(x.split(' ')) > 4]"
   ]
  },
  {
   "cell_type": "code",
   "execution_count": 39,
   "metadata": {
    "metadata": {}
   },
   "outputs": [
    {
     "name": "stdout",
     "output_type": "stream",
     "text": [
      "1103\n",
      "935\n",
      "2038\n",
      "2038\n"
     ]
    }
   ],
   "source": [
    "outer = []\n",
    "intersect = []\n",
    "\n",
    "for i in koenDB_1:\n",
    "    if i not in paperDB_1:\n",
    "        outer.append(i)\n",
    "    else:\n",
    "        intersect.append(i)\n",
    "    \n",
    "        \n",
    "for i in paperDB_1:\n",
    "    if i not in koenDB_1:\n",
    "        outer.append(i)\n",
    "    else:\n",
    "        intersect.append(i)\n",
    "        \n",
    "print(len(outer))\n",
    "print(len(intersect))\n",
    "print(len(outer + intersect))\n",
    "print(len(koenDB_1 + paperDB_1))"
   ]
  },
  {
   "cell_type": "code",
   "execution_count": 42,
   "metadata": {},
   "outputs": [
    {
     "name": "stdout",
     "output_type": "stream",
     "text": [
      "277\n",
      "76\n",
      "5565\n",
      "5918\n",
      "5918\n"
     ]
    }
   ],
   "source": [
    "outer_2 = []\n",
    "intersect_2 = []\n",
    "sub_ingr_2 = []\n",
    "\n",
    "for i in koenDB_2:\n",
    "    if test_include(i, intersect_1_total, 1):\n",
    "        sub_ingr_2.append(i)\n",
    "    elif i not in paperDB_2:\n",
    "        outer_2.append(i)\n",
    "    else:\n",
    "        intersect_2.append(i)\n",
    "    \n",
    "        \n",
    "for i in paperDB_2:\n",
    "    if test_include(i, intersect_1_total, 1):\n",
    "        sub_ingr_2.append(i)\n",
    "    elif i not in koenDB_2:\n",
    "        outer_2.append(i)\n",
    "    else:\n",
    "        intersect_2.append(i)\n",
    "        \n",
    "print(len(outer_2))\n",
    "print(len(intersect_2))\n",
    "print(len(sub_ingr_2))\n",
    "print(len(outer_2 + intersect_2 + sub_ingr_2))\n",
    "print(len(koenDB_2 + paperDB_2))"
   ]
  },
  {
   "cell_type": "code",
   "execution_count": 44,
   "metadata": {},
   "outputs": [],
   "source": [
    "with open('2_intersect.txt', 'r') as f:\n",
    "    intersect_2 = f.readlines()\n",
    "    \n",
    "intersect_2 = [x.strip() for x in intersect_2]\n",
    "\n",
    "with open('2_sub.txt', 'r') as f:\n",
    "    sub_2 = f.readlines()\n",
    "    \n",
    "sub_2 = [x.strip() for x in sub_2]\n",
    "    \n",
    "with open('2_outer_out.txt', 'r') as f:\n",
    "    intersect_2_other = f.readlines()\n",
    "    \n",
    "intersect_2_other = [x.strip().split(' ')[0] for x in intersect_2_other if x.strip().split(' ')[1] == 'In']\n",
    "\n",
    "intersect_2_total = set(intersect_2 + intersect_2_other + sub_2)"
   ]
  },
  {
   "cell_type": "code",
   "execution_count": null,
   "metadata": {},
   "outputs": [],
   "source": [
    "intersect_2_total"
   ]
  },
  {
   "cell_type": "code",
   "execution_count": 51,
   "metadata": {},
   "outputs": [
    {
     "name": "stdout",
     "output_type": "stream",
     "text": [
      "77\n",
      "22\n",
      "2884\n",
      "2983\n",
      "2983\n"
     ]
    }
   ],
   "source": [
    "outer_3 = []\n",
    "intersect_3 = []\n",
    "sub_ingr_3 = []\n",
    "\n",
    "for i in koenDB_3:\n",
    "    if test_include(i, intersect_1_total, 1) or test_include(i, intersect_2_total, 2):\n",
    "        sub_ingr_3.append(i)\n",
    "    elif i not in paperDB_3:\n",
    "        outer_3.append(i)\n",
    "    else:\n",
    "        intersect_3.append(i)\n",
    "    \n",
    "        \n",
    "for i in paperDB_3:\n",
    "    if test_include(i, intersect_1_total, 1) or test_include(i, intersect_2_total, 2):\n",
    "        sub_ingr_3.append(i)\n",
    "    elif i not in koenDB_3:\n",
    "        outer_3.append(i)\n",
    "    else:\n",
    "        intersect_3.append(i)\n",
    "        \n",
    "print(len(outer_3))\n",
    "print(len(intersect_3))\n",
    "print(len(sub_ingr_3))\n",
    "print(len(outer_3 + intersect_3 + sub_ingr_3))\n",
    "print(len(koenDB_3 + paperDB_3))"
   ]
  },
  {
   "cell_type": "code",
   "execution_count": 53,
   "metadata": {},
   "outputs": [],
   "source": [
    "with open('3_intersect.txt', 'r') as f:\n",
    "    intersect_3 = f.readlines()\n",
    "    \n",
    "intersect_3 = [x.strip() for x in intersect_3]\n",
    "\n",
    "with open('3_sub.txt', 'r') as f:\n",
    "    sub_3 = f.readlines()\n",
    "    \n",
    "sub_3 = [x.strip() for x in sub_3]\n",
    "    \n",
    "with open('3_outer_out.txt', 'r') as f:\n",
    "    intersect_3_other = f.readlines()\n",
    "    \n",
    "intersect_3_other = [x.strip().split(' ')[0] for x in intersect_3_other if x.strip().split(' ')[1] == 'In']\n",
    "\n",
    "intersect_3_total = set(intersect_3 + intersect_3_other + sub_3)"
   ]
  },
  {
   "cell_type": "code",
   "execution_count": 56,
   "metadata": {},
   "outputs": [
    {
     "name": "stdout",
     "output_type": "stream",
     "text": [
      "8\n",
      "0\n",
      "691\n",
      "699\n",
      "699\n"
     ]
    }
   ],
   "source": [
    "outer_4 = []\n",
    "intersect_4 = []\n",
    "sub_ingr_4 = []\n",
    "\n",
    "for i in koenDB_4:\n",
    "    if test_include(i, intersect_1_total, 1) or test_include(i, intersect_2_total, 2) or test_include(i, intersect_3_total, 3):\n",
    "        sub_ingr_4.append(i)\n",
    "    elif i not in paperDB_4:\n",
    "        outer_4.append(i)\n",
    "    else:\n",
    "        intersect_4.append(i)\n",
    "    \n",
    "        \n",
    "for i in paperDB_4:\n",
    "    if test_include(i, intersect_1_total, 1) or test_include(i, intersect_2_total, 2) or test_include(i, intersect_3_total, 3):\n",
    "        sub_ingr_4.append(i)\n",
    "    elif i not in koenDB_4:\n",
    "        outer_4.append(i)\n",
    "    else:\n",
    "        intersect_4.append(i)\n",
    "        \n",
    "print(len(outer_4))\n",
    "print(len(intersect_4))\n",
    "print(len(sub_ingr_4))\n",
    "print(len(outer_4 + intersect_4 + sub_ingr_4))\n",
    "print(len(koenDB_4 + paperDB_4))"
   ]
  },
  {
   "cell_type": "code",
   "execution_count": 68,
   "metadata": {},
   "outputs": [],
   "source": [
    "with open('4_intersect.txt', 'r') as f:\n",
    "    intersect_4 = f.readlines()\n",
    "    \n",
    "intersect_4 = [x.strip() for x in intersect_4]\n",
    "\n",
    "with open('4_sub.txt', 'r') as f:\n",
    "    sub_4 = f.readlines()\n",
    "    \n",
    "sub_4 = [x.strip() for x in sub_4]\n",
    "    \n",
    "with open('4_outer_out.txt', 'r') as f:\n",
    "    intersect_4_other = f.readlines()\n",
    "    \n",
    "intersect_4_other = [x.strip().split(' ')[0] for x in intersect_4_other if x.strip().split(' ')[1] == 'In']\n",
    "\n",
    "intersect_4_total = set(intersect_4 + intersect_4_other + sub_4)"
   ]
  },
  {
   "cell_type": "code",
   "execution_count": 66,
   "metadata": {},
   "outputs": [
    {
     "name": "stdout",
     "output_type": "stream",
     "text": [
      "3\n",
      "0\n",
      "231\n",
      "234\n",
      "234\n"
     ]
    }
   ],
   "source": [
    "outer_5 = []\n",
    "intersect_5 = []\n",
    "sub_ingr_5 = []\n",
    "\n",
    "for i in koenDB_5_plus:\n",
    "    if test_include(i, intersect_1_total, 1) or test_include(i, intersect_2_total, 2) or test_include(i, intersect_3_total, 3) or test_include(i, intersect_4_total, 4):\n",
    "        sub_ingr_5.append(i)\n",
    "    elif i not in paperDB_5_plus:\n",
    "        outer_5.append(i)\n",
    "    else:\n",
    "        intersect_5.append(i)\n",
    "    \n",
    "        \n",
    "for i in paperDB_5_plus:\n",
    "    if test_include(i, intersect_1_total, 1) or test_include(i, intersect_2_total, 2) or test_include(i, intersect_3_total, 3) or test_include(i, intersect_4_total, 4):\n",
    "        sub_ingr_5.append(i)\n",
    "    elif i not in koenDB_5_plus:\n",
    "        outer_5.append(i)\n",
    "    else:\n",
    "        intersect_5.append(i)\n",
    "        \n",
    "print(len(outer_5))\n",
    "print(len(intersect_5))\n",
    "print(len(sub_ingr_5))\n",
    "print(len(outer_5 + intersect_5 + sub_ingr_5))\n",
    "print(len(koenDB_5_plus + paperDB_5_plus))"
   ]
  },
  {
   "cell_type": "code",
   "execution_count": 70,
   "metadata": {},
   "outputs": [],
   "source": [
    "with open('5_intersect.txt', 'r') as f:\n",
    "    intersect_5 = f.readlines()\n",
    "    \n",
    "intersect_5 = [x.strip() for x in intersect_5]\n",
    "\n",
    "with open('5_sub.txt', 'r') as f:\n",
    "    sub_5 = f.readlines()\n",
    "    \n",
    "sub_5 = [x.strip() for x in sub_5]\n",
    "    \n",
    "with open('5_outer_out.txt', 'r') as f:\n",
    "    intersect_5_other = f.readlines()\n",
    "    \n",
    "intersect_5_other = [x.strip().split(' ')[0] for x in intersect_5_other if x.strip().split(' ')[1] == 'In']\n",
    "\n",
    "intersect_5_total = set(intersect_5 + intersect_5_other + sub_5)"
   ]
  },
  {
   "cell_type": "code",
   "execution_count": 12,
   "metadata": {
    "metadata": {}
   },
   "outputs": [],
   "source": [
    "with open('1_intersect.txt', 'w') as f:\n",
    "    f.writelines([x + '\\n' for x in intersect])"
   ]
  },
  {
   "cell_type": "code",
   "execution_count": null,
   "metadata": {},
   "outputs": [],
   "source": [
    "with open('1_out_extra.txt', 'w') as f:\n",
    "    f.writelines([x + '\\n' for x in intersect])"
   ]
  },
  {
   "cell_type": "code",
   "execution_count": 43,
   "metadata": {},
   "outputs": [],
   "source": [
    "with open('2_intersect.txt', 'w') as f:\n",
    "    f.writelines([x + '\\n' for x in intersect_2])\n",
    "    \n",
    "with open('2_outer.txt', 'w') as f:\n",
    "    f.writelines([x + '\\n' for x in outer_2])\n",
    "\n",
    "with open('2_sub.txt', 'w') as f:\n",
    "    f.writelines([x + '\\n' for x in sub_ingr_2])"
   ]
  },
  {
   "cell_type": "code",
   "execution_count": 52,
   "metadata": {},
   "outputs": [],
   "source": [
    "with open('3_intersect.txt', 'w') as f:\n",
    "    f.writelines([x + '\\n' for x in intersect_3])\n",
    "    \n",
    "with open('3_outer.txt', 'w') as f:\n",
    "    f.writelines([x + '\\n' for x in outer_3])\n",
    "\n",
    "with open('3_sub.txt', 'w') as f:\n",
    "    f.writelines([x + '\\n' for x in sub_ingr_3])"
   ]
  },
  {
   "cell_type": "code",
   "execution_count": 57,
   "metadata": {},
   "outputs": [],
   "source": [
    "with open('4_intersect.txt', 'w') as f:\n",
    "    f.writelines([x + '\\n' for x in intersect_4])\n",
    "    \n",
    "with open('4_outer.txt', 'w') as f:\n",
    "    f.writelines([x + '\\n' for x in outer_4])\n",
    "\n",
    "with open('4_sub.txt', 'w') as f:\n",
    "    f.writelines([x + '\\n' for x in sub_ingr_4])"
   ]
  },
  {
   "cell_type": "code",
   "execution_count": 67,
   "metadata": {},
   "outputs": [],
   "source": [
    "with open('5_intersect.txt', 'w') as f:\n",
    "    f.writelines([x + '\\n' for x in intersect_5])\n",
    "    \n",
    "with open('5_outer.txt', 'w') as f:\n",
    "    f.writelines([x + '\\n' for x in outer_5])\n",
    "\n",
    "with open('5_sub.txt', 'w') as f:\n",
    "    f.writelines([x + '\\n' for x in sub_ingr_5])"
   ]
  },
  {
   "cell_type": "code",
   "execution_count": 47,
   "metadata": {
    "metadata": {}
   },
   "outputs": [],
   "source": [
    "with open('1_total.txt', 'w') as f:\n",
    "    f.writelines([x + '\\n' for x in sorted(list(intersect_1_total))])"
   ]
  },
  {
   "cell_type": "code",
   "execution_count": 48,
   "metadata": {},
   "outputs": [],
   "source": [
    "with open('2_total.txt', 'w') as f:\n",
    "    f.writelines([x + '\\n' for x in sorted(list(intersect_2_total))])"
   ]
  },
  {
   "cell_type": "code",
   "execution_count": 54,
   "metadata": {},
   "outputs": [],
   "source": [
    "with open('3_total.txt', 'w') as f:\n",
    "    f.writelines([x + '\\n' for x in sorted(list(intersect_3_total))])"
   ]
  },
  {
   "cell_type": "code",
   "execution_count": 69,
   "metadata": {},
   "outputs": [],
   "source": [
    "with open('4_total.txt', 'w') as f:\n",
    "    f.writelines([x + '\\n' for x in sorted(list(intersect_4_total))])"
   ]
  },
  {
   "cell_type": "code",
   "execution_count": 71,
   "metadata": {},
   "outputs": [],
   "source": [
    "with open('5_total.txt', 'w') as f:\n",
    "    f.writelines([x + '\\n' for x in sorted(list(intersect_5_total))])"
   ]
  },
  {
   "cell_type": "code",
   "execution_count": null,
   "metadata": {},
   "outputs": [],
   "source": [
    "with open('1.txt', 'w') as f:\n",
    "    f.writelines([x + '\\n' for x in outer])"
   ]
  },
  {
   "cell_type": "code",
   "execution_count": 116,
   "metadata": {
    "metadata": {}
   },
   "outputs": [
    {
     "data": {
      "text/plain": [
       "['adda']"
      ]
     },
     "execution_count": 116,
     "metadata": {},
     "output_type": "execute_result"
    }
   ],
   "source": [
    "'adda'.split(' ')"
   ]
  },
  {
   "cell_type": "code",
   "execution_count": null,
   "metadata": {},
   "outputs": [],
   "source": []
  }
 ],
 "metadata": {
  "kernelspec": {
   "display_name": "base",
   "language": "python",
   "name": "python3"
  },
  "language_info": {
   "codemirror_mode": {
    "name": "ipython",
    "version": 3
   },
   "file_extension": ".py",
   "mimetype": "text/x-python",
   "name": "python",
   "nbconvert_exporter": "python",
   "pygments_lexer": "ipython3",
   "version": "3.9.18"
  }
 },
 "nbformat": 4,
 "nbformat_minor": 2
}
