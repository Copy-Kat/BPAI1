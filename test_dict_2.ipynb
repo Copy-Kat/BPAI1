{
 "cells": [
  {
   "cell_type": "code",
   "execution_count": 1,
   "metadata": {},
   "outputs": [],
   "source": [
    "import pandas as pd"
   ]
  },
  {
   "cell_type": "code",
   "execution_count": 3,
   "metadata": {},
   "outputs": [],
   "source": [
    "with open('1_total.txt', 'r') as file:\n",
    "    intersect_1 = [x.strip() for x in file.readlines()]\n",
    "    \n",
    "with open('2_total.txt', 'r') as file:\n",
    "    intersect_2 = [x.strip() for x in file.readlines()]\n",
    "    \n",
    "with open('3_total.txt', 'r') as file:\n",
    "    intersect_3 = [x.strip() for x in file.readlines()]\n",
    "    \n",
    "with open('4_total.txt', 'r') as file:\n",
    "    intersect_4 = [x.strip() for x in file.readlines()]\n",
    "    \n",
    "with open('5_total.txt', 'r') as file:\n",
    "    intersect_5 = [x.strip() for x in file.readlines()]"
   ]
  },
  {
   "cell_type": "code",
   "execution_count": 6,
   "metadata": {},
   "outputs": [
    {
     "data": {
      "text/plain": [
       "1555"
      ]
     },
     "execution_count": 6,
     "metadata": {},
     "output_type": "execute_result"
    }
   ],
   "source": [
    "len(intersect_1)"
   ]
  },
  {
   "cell_type": "code",
   "execution_count": 4,
   "metadata": {},
   "outputs": [],
   "source": [
    "ingredients_from_PCA = pd.read_csv('df_ingredients_clean.csv')"
   ]
  },
  {
   "cell_type": "code",
   "execution_count": 10,
   "metadata": {},
   "outputs": [],
   "source": [
    "ingredients_from_PCA_list = list(set(ingredients_from_PCA['Ingredients'].to_list()))"
   ]
  },
  {
   "cell_type": "code",
   "execution_count": 11,
   "metadata": {},
   "outputs": [],
   "source": [
    "ingredients_from_PCA_list_1 = [x for x in ingredients_from_PCA_list if len(x.split(' ')) == 1]\n",
    "ingredients_from_PCA_list_2 = [x for x in ingredients_from_PCA_list if len(x.split(' ')) == 2]\n",
    "ingredients_from_PCA_list_3 = [x for x in ingredients_from_PCA_list if len(x.split(' ')) == 3]\n",
    "ingredients_from_PCA_list_4 = [x for x in ingredients_from_PCA_list if len(x.split(' ')) == 4]\n",
    "ingredients_from_PCA_list_5 = [x for x in ingredients_from_PCA_list if len(x.split(' ')) > 4]"
   ]
  },
  {
   "cell_type": "code",
   "execution_count": 22,
   "metadata": {},
   "outputs": [
    {
     "name": "stdout",
     "output_type": "stream",
     "text": [
      "87\n",
      "430\n",
      "517\n",
      "517\n"
     ]
    }
   ],
   "source": [
    "outer = []\n",
    "intersect = []\n",
    "\n",
    "for i in ingredients_from_PCA_list_1:\n",
    "    if test_include(i, intersect_1, 1) or i in intersect_1:\n",
    "        intersect.append(i)\n",
    "    else:\n",
    "        outer.append(i)\n",
    "        \n",
    "print(len(outer))\n",
    "print(len(intersect))\n",
    "print(len(outer + intersect))\n",
    "print(len(ingredients_from_PCA_list_1))"
   ]
  },
  {
   "cell_type": "code",
   "execution_count": 24,
   "metadata": {},
   "outputs": [
    {
     "data": {
      "text/plain": [
       "False"
      ]
     },
     "execution_count": 24,
     "metadata": {},
     "output_type": "execute_result"
    }
   ],
   "source": [
    "test_include('leaves', intersect_1, 1)"
   ]
  },
  {
   "cell_type": "code",
   "execution_count": 23,
   "metadata": {},
   "outputs": [
    {
     "data": {
      "text/plain": [
       "['leaves',\n",
       " 'popadoms',\n",
       " 'buttermargarine',\n",
       " 'veganaise',\n",
       " 'tabouleh',\n",
       " 'chavre',\n",
       " 'franks',\n",
       " 'saltpepper',\n",
       " 'oreo',\n",
       " 'chanterelles',\n",
       " 'daiya',\n",
       " 'porcini',\n",
       " 'andouille',\n",
       " 'crayfish',\n",
       " 'nduja',\n",
       " 'oreos',\n",
       " 'xylitol',\n",
       " 'garlicscapes',\n",
       " 'skewers',\n",
       " 'jalapenos',\n",
       " 'rolos',\n",
       " 'flavorless',\n",
       " 'globe',\n",
       " 'alternative',\n",
       " 'mild',\n",
       " 'crust',\n",
       " 'fries',\n",
       " 'pepperoncinis',\n",
       " 'color',\n",
       " 'cocacola',\n",
       " 'vegenaise',\n",
       " 'scamorza',\n",
       " 'tobanjan',\n",
       " 'carrotspeeled',\n",
       " 'stockbrothwater',\n",
       " 'brownies',\n",
       " 'powder',\n",
       " 'spray',\n",
       " 'quorn',\n",
       " 'ovalette',\n",
       " 'crumpets',\n",
       " 'vege-gel',\n",
       " 'brie',\n",
       " 'evoo',\n",
       " 'chilis',\n",
       " 'fruits',\n",
       " 'parm',\n",
       " 'coriandercilantro',\n",
       " 'xylito',\n",
       " 'halfandhalf',\n",
       " 'kahla',\n",
       " 'ranch',\n",
       " 'strips',\n",
       " 'cabernet',\n",
       " 'parmigianoreggiano',\n",
       " 'perinaise',\n",
       " 'paneer',\n",
       " 'crotons',\n",
       " 'gingersnaps',\n",
       " 'falafel',\n",
       " 'saag',\n",
       " 'veggies',\n",
       " 'zaatar',\n",
       " 'short',\n",
       " 'unbleached',\n",
       " 'yolk',\n",
       " 'gouda',\n",
       " 'white',\n",
       " 'baileys',\n",
       " 'zucchinis',\n",
       " 'provolone',\n",
       " 'conchiglioni',\n",
       " 'navy',\n",
       " 'havarti',\n",
       " 'halloumi',\n",
       " 'feta',\n",
       " 'protein',\n",
       " 'onionchopped',\n",
       " 'peel',\n",
       " 'greek',\n",
       " 'candlenuts',\n",
       " 'mayo',\n",
       " 'cocoacarob',\n",
       " 'cortido',\n",
       " 'blackcurrants',\n",
       " 'crisps',\n",
       " 'sunflower']"
      ]
     },
     "execution_count": 23,
     "metadata": {},
     "output_type": "execute_result"
    }
   ],
   "source": []
  },
  {
   "cell_type": "code",
   "execution_count": 15,
   "metadata": {},
   "outputs": [],
   "source": [
    "df_recipedb = pd.read_csv('ingredients_list_clean.csv')\n",
    "\n",
    "df_recipedb.drop(columns=['Unnamed: 0', 'link'], inplace=True)\n",
    "df_recipedb.sort_values(by=['ingredients'], inplace=True)\n",
    "\n",
    "recipeDB = df_recipedb['ingredients'].to_list()"
   ]
  },
  {
   "cell_type": "code",
   "execution_count": 16,
   "metadata": {},
   "outputs": [],
   "source": [
    "recipeDB_1 = [x for x in recipeDB if len(x.split(' ')) == 1]\n",
    "recipeDB_2 = [x for x in recipeDB if len(x.split(' ')) == 2]\n",
    "recipeDB_3 = [x for x in recipeDB if len(x.split(' ')) == 3]\n",
    "recipeDB_4 = [x for x in recipeDB if len(x.split(' ')) == 4]\n",
    "recipeDB_5 = [x for x in recipeDB if len(x.split(' ')) > 4]"
   ]
  },
  {
   "cell_type": "code",
   "execution_count": 17,
   "metadata": {},
   "outputs": [
    {
     "name": "stdout",
     "output_type": "stream",
     "text": [
      "486\n",
      "818\n",
      "1304\n",
      "1304\n"
     ]
    }
   ],
   "source": [
    "outer_extra_1 = []\n",
    "intersect_extra_1 = []\n",
    "\n",
    "for i in recipeDB_1:\n",
    "    if i not in intersect_1:\n",
    "        outer_extra_1.append(i)\n",
    "    else:\n",
    "        intersect_extra_1.append(i)\n",
    "        \n",
    "print(len(outer_extra_1))\n",
    "print(len(intersect_extra_1))\n",
    "print(len(outer_extra_1 + intersect_extra_1))\n",
    "print(len(recipeDB_1))"
   ]
  },
  {
   "cell_type": "code",
   "execution_count": null,
   "metadata": {},
   "outputs": [],
   "source": [
    "outer_extra_1"
   ]
  },
  {
   "cell_type": "code",
   "execution_count": 19,
   "metadata": {},
   "outputs": [
    {
     "name": "stdout",
     "output_type": "stream",
     "text": [
      "3997\n",
      "2468\n",
      "6465\n",
      "6465\n"
     ]
    }
   ],
   "source": [
    "outer_extra_1 = []\n",
    "intersect_extra_1 = []\n",
    "\n",
    "for i in recipeDB_2:\n",
    "    if i not in intersect_2:\n",
    "        outer_extra_1.append(i)\n",
    "    else:\n",
    "        intersect_extra_1.append(i)\n",
    "        \n",
    "print(len(outer_extra_1))\n",
    "print(len(intersect_extra_1))\n",
    "print(len(outer_extra_1 + intersect_extra_1))\n",
    "print(len(recipeDB_2))"
   ]
  },
  {
   "cell_type": "code",
   "execution_count": 17,
   "metadata": {},
   "outputs": [],
   "source": [
    "from itertools import permutations \n",
    "\n",
    "def test_include(string, set_ingr, len):\n",
    "    perm = permutations(string.split(' '), len)\n",
    "    \n",
    "    for i in perm:\n",
    "        if ' '.join(i) in set_ingr:\n",
    "            return True\n",
    "    \n",
    "    return False"
   ]
  },
  {
   "cell_type": "code",
   "execution_count": 96,
   "metadata": {},
   "outputs": [],
   "source": [
    "tree = {}\n",
    "\n",
    "# for i in combined_clean:\n",
    "#     target = tree\n",
    "#     tokens = i.split(' ')\n",
    "    \n",
    "#     for idx, token in enumerate(tokens):\n",
    "#         if token not in target:\n",
    "#             target[token] = {}\n",
    "#         target = target[token]\n",
    "        \n",
    "def build_tree(root, candidates, order, max_order):\n",
    "    temp_tree = {}\n",
    "    \n",
    "    if order != max_order:   \n",
    "         \n",
    "        potential_candidates = [x for x in candidates[order] if test_include(root, x, order)]\n",
    "        \n",
    "        for i in potential_candidates:\n",
    "            temp_tree[i] = build_tree(i, candidates, order + 1, max_order)\n",
    "    \n",
    "    return temp_tree"
   ]
  },
  {
   "cell_type": "code",
   "execution_count": 26,
   "metadata": {},
   "outputs": [],
   "source": [
    "all_ingredients = [intersect_1] + [intersect_2] + [intersect_3] + [intersect_4] + [intersect_5]"
   ]
  },
  {
   "cell_type": "code",
   "execution_count": 86,
   "metadata": {},
   "outputs": [
    {
     "data": {
      "text/plain": [
       "'agave'"
      ]
     },
     "execution_count": 86,
     "metadata": {},
     "output_type": "execute_result"
    }
   ],
   "source": [
    "all_ingredients[0][7]"
   ]
  },
  {
   "cell_type": "code",
   "execution_count": 97,
   "metadata": {},
   "outputs": [],
   "source": [
    "tree = {}\n",
    "\n",
    "for i in all_ingredients[0]:\n",
    "    \n",
    "    tree[i] = build_tree(i, all_ingredients, 1, 4)"
   ]
  },
  {
   "cell_type": "code",
   "execution_count": 98,
   "metadata": {},
   "outputs": [],
   "source": [
    "import json \n",
    "\n",
    "with open(\"tree.json\", \"w\") as outfile: \n",
    "    json.dump(tree, outfile)"
   ]
  },
  {
   "cell_type": "code",
   "execution_count": 19,
   "metadata": {},
   "outputs": [],
   "source": [
    "import json\n",
    " \n",
    "# Opening JSON file\n",
    "with open('tree.json') as json_file:\n",
    "    data = json.load(json_file)"
   ]
  },
  {
   "cell_type": "code",
   "execution_count": 32,
   "metadata": {},
   "outputs": [
    {
     "name": "stdout",
     "output_type": "stream",
     "text": [
      "mayonnaise\n"
     ]
    }
   ],
   "source": [
    "for i in data.keys():\n",
    "    if 'mayo' in i or i in 'mayo':\n",
    "        print(i)\n",
    "        break"
   ]
  },
  {
   "cell_type": "code",
   "execution_count": 26,
   "metadata": {},
   "outputs": [
    {
     "data": {
      "text/plain": [
       "['leaves',\n",
       " 'popadoms',\n",
       " 'buttermargarine',\n",
       " 'veganaise',\n",
       " 'tabouleh',\n",
       " 'chavre',\n",
       " 'franks',\n",
       " 'saltpepper',\n",
       " 'oreo',\n",
       " 'chanterelles',\n",
       " 'daiya',\n",
       " 'porcini',\n",
       " 'andouille',\n",
       " 'crayfish',\n",
       " 'nduja',\n",
       " 'oreos',\n",
       " 'xylitol',\n",
       " 'garlicscapes',\n",
       " 'skewers',\n",
       " 'jalapenos',\n",
       " 'rolos',\n",
       " 'flavorless',\n",
       " 'globe',\n",
       " 'alternative',\n",
       " 'mild',\n",
       " 'crust',\n",
       " 'fries',\n",
       " 'pepperoncinis',\n",
       " 'color',\n",
       " 'cocacola',\n",
       " 'vegenaise',\n",
       " 'scamorza',\n",
       " 'tobanjan',\n",
       " 'carrotspeeled',\n",
       " 'stockbrothwater',\n",
       " 'brownies',\n",
       " 'powder',\n",
       " 'spray',\n",
       " 'quorn',\n",
       " 'ovalette',\n",
       " 'crumpets',\n",
       " 'vege-gel',\n",
       " 'brie',\n",
       " 'evoo',\n",
       " 'chilis',\n",
       " 'fruits',\n",
       " 'parm',\n",
       " 'coriandercilantro',\n",
       " 'xylito',\n",
       " 'halfandhalf',\n",
       " 'kahla',\n",
       " 'ranch',\n",
       " 'strips',\n",
       " 'cabernet',\n",
       " 'parmigianoreggiano',\n",
       " 'perinaise',\n",
       " 'paneer',\n",
       " 'crotons',\n",
       " 'gingersnaps',\n",
       " 'falafel',\n",
       " 'saag',\n",
       " 'veggies',\n",
       " 'zaatar',\n",
       " 'short',\n",
       " 'unbleached',\n",
       " 'yolk',\n",
       " 'gouda',\n",
       " 'white',\n",
       " 'baileys',\n",
       " 'zucchinis',\n",
       " 'provolone',\n",
       " 'conchiglioni',\n",
       " 'navy',\n",
       " 'havarti',\n",
       " 'halloumi',\n",
       " 'feta',\n",
       " 'protein',\n",
       " 'onionchopped',\n",
       " 'peel',\n",
       " 'greek',\n",
       " 'candlenuts',\n",
       " 'mayo',\n",
       " 'cocoacarob',\n",
       " 'cortido',\n",
       " 'blackcurrants',\n",
       " 'crisps',\n",
       " 'sunflower']"
      ]
     },
     "execution_count": 26,
     "metadata": {},
     "output_type": "execute_result"
    }
   ],
   "source": [
    "outer"
   ]
  },
  {
   "cell_type": "code",
   "execution_count": null,
   "metadata": {},
   "outputs": [],
   "source": []
  }
 ],
 "metadata": {
  "kernelspec": {
   "display_name": "base",
   "language": "python",
   "name": "python3"
  },
  "language_info": {
   "codemirror_mode": {
    "name": "ipython",
    "version": 3
   },
   "file_extension": ".py",
   "mimetype": "text/x-python",
   "name": "python",
   "nbconvert_exporter": "python",
   "pygments_lexer": "ipython3",
   "version": "3.9.18"
  }
 },
 "nbformat": 4,
 "nbformat_minor": 2
}
