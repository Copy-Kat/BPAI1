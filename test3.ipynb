{
 "cells": [
  {
   "cell_type": "code",
   "execution_count": 1,
   "metadata": {},
   "outputs": [],
   "source": [
    "import json\n",
    "\n",
    "with open('tree.json') as json_file:\n",
    "    data = json.load(json_file)"
   ]
  },
  {
   "cell_type": "code",
   "execution_count": 2,
   "metadata": {},
   "outputs": [],
   "source": [
    "import pandas as pd\n",
    "\n",
    "df_INQ = pd.read_csv('df_INQ_test_cleaned.csv')\n",
    "df_ingredients = pd.read_csv('df_ingredients_clean.csv')\n",
    "\n",
    "df_INQ.drop(columns=['Unnamed: 0'], inplace= True)\n",
    "df_ingredients.drop(columns=['Unnamed: 0'], inplace= True)\n",
    "\n",
    "df_INQ_agged = df_INQ.groupby('ID', as_index=False).agg(pd.Series.tolist)\n",
    "df_ingredients_agged = df_ingredients.groupby('ID', as_index=False).agg(pd.Series.tolist)"
   ]
  },
  {
   "cell_type": "code",
   "execution_count": 3,
   "metadata": {},
   "outputs": [],
   "source": [
    "from itertools import permutations \n",
    "\n",
    "def test_include(string, set_ingr, len):\n",
    "    perm = permutations(string.split(' '), len)\n",
    "    \n",
    "    matches = []\n",
    "    \n",
    "    for i in perm:\n",
    "        if ' '.join(i) in set_ingr:\n",
    "            matches.append(i)\n",
    "    \n",
    "    return matches"
   ]
  },
  {
   "cell_type": "code",
   "execution_count": 19,
   "metadata": {},
   "outputs": [
    {
     "data": {
      "text/plain": [
       "{'base sauce': {},\n",
       " 'beef base': {},\n",
       " 'chicken base': {},\n",
       " 'clam base': {},\n",
       " 'crab base': {},\n",
       " 'gochujang base': {},\n",
       " 'gumbo base': {},\n",
       " 'lobster base': {},\n",
       " 'vegetable base': {}}"
      ]
     },
     "execution_count": 19,
     "metadata": {},
     "output_type": "execute_result"
    }
   ],
   "source": [
    "data.get('base')"
   ]
  },
  {
   "cell_type": "code",
   "execution_count": 23,
   "metadata": {},
   "outputs": [
    {
     "data": {
      "text/plain": [
       "0.9354143466934852"
      ]
     },
     "execution_count": 23,
     "metadata": {},
     "output_type": "execute_result"
    }
   ],
   "source": [
    "from strsimpy import Cosine\n",
    "\n",
    "cos = Cosine(1)\n",
    "\n",
    "1 - cos.distance('beets', 'beetas')"
   ]
  },
  {
   "cell_type": "code",
   "execution_count": 5,
   "metadata": {},
   "outputs": [],
   "source": [
    "def find(s, trees, order, steps):\n",
    "    max_order = s.split(' ')\n",
    "    candidates = []\n",
    "    \n",
    "    if order < len(s.split(' ')):\n",
    "        \n",
    "        for i in permutations(s.split(' '), order):\n",
    "            for tree in trees:\n",
    "                candidate = tree.get(' '.join(i))\n",
    "                if candidate is not None:\n",
    "                    steps.append((' '.join(i), order))\n",
    "                    candidates.append(candidate)\n",
    " \n",
    "        if not candidates:\n",
    "            \n",
    "            if any([not(tree.keys()) for tree in trees]):\n",
    "                \n",
    "                return steps[-1]\n",
    "            \n",
    "            max_cosine_score = float('-inf')\n",
    "            \n",
    "            for i in permutations(s.split(' '), order):\n",
    "                for tree in trees:\n",
    "                    candidates = tree.keys()\n",
    "                    for key in candidates:\n",
    "                        if 1 - cos.distance(' '.join(i), key) > max_cosine_score:\n",
    "                            max_cosine_score = 1 - cos.distance(s, key)\n",
    "                            best_key = key\n",
    "                steps.append((best_key, order - 1))\n",
    "            \n",
    "            return steps[-1]\n",
    "            \n",
    "        find(s, candidates, order+1, steps)\n",
    "        \n",
    "    else:\n",
    "        for tree in trees:\n",
    "            candidate = tree.get(s)\n",
    "            if candidate is not None:\n",
    "                steps.append((s, order))\n",
    "                \n",
    "        if not steps:\n",
    "            \n",
    "            max_cosine_score = float('-inf')\n",
    "            \n",
    "            for tree in trees:\n",
    "                candidates = tree.keys()\n",
    "                for key in candidates:\n",
    "                    if 1 - cos.distance(s, key) > max_cosine_score:\n",
    "                        max_cosine_score = 1 - cos.distance(s, key)\n",
    "                        best_key = key\n",
    "                            \n",
    "            steps.append((best_key, order - 1))\n",
    "            \n",
    "            return steps[-1]\n",
    "            \n",
    "    return steps[-1]"
   ]
  },
  {
   "cell_type": "code",
   "execution_count": 106,
   "metadata": {},
   "outputs": [
    {
     "data": {
      "text/plain": [
       "[True]"
      ]
     },
     "execution_count": 106,
     "metadata": {},
     "output_type": "execute_result"
    }
   ],
   "source": [
    "[not({}.keys()) ]"
   ]
  },
  {
   "cell_type": "code",
   "execution_count": 6,
   "metadata": {},
   "outputs": [
    {
     "data": {
      "text/plain": [
       "('yam', 0)"
      ]
     },
     "execution_count": 6,
     "metadata": {},
     "output_type": "execute_result"
    }
   ],
   "source": [
    "find('mayo', [data], 1, [])"
   ]
  },
  {
   "cell_type": "code",
   "execution_count": 86,
   "metadata": {},
   "outputs": [
    {
     "data": {
      "text/plain": [
       "ID                          1\n",
       "Ingredients    gochujang base\n",
       "Name: 0, dtype: object"
      ]
     },
     "execution_count": 86,
     "metadata": {},
     "output_type": "execute_result"
    }
   ],
   "source": [
    "df_ingredients.iloc[0]"
   ]
  },
  {
   "cell_type": "code",
   "execution_count": 8,
   "metadata": {},
   "outputs": [],
   "source": [
    "matches = []\n",
    "for i in df_ingredients.itertuples():\n",
    "    matches.append(find(i.Ingredients, [data], 1, []))"
   ]
  },
  {
   "cell_type": "code",
   "execution_count": 9,
   "metadata": {},
   "outputs": [],
   "source": [
    "match_col = [x[0] for x in matches]\n",
    "order_col = [x[1] for x in matches]\n",
    "note_col = ['Perfect' if len(x[0].split(' ')) == x[1] else 'Not perfect' for x in matches]"
   ]
  },
  {
   "cell_type": "code",
   "execution_count": 13,
   "metadata": {},
   "outputs": [
    {
     "data": {
      "text/plain": [
       "26178"
      ]
     },
     "execution_count": 13,
     "metadata": {},
     "output_type": "execute_result"
    }
   ],
   "source": [
    "len(note_col)"
   ]
  },
  {
   "cell_type": "code",
   "execution_count": 15,
   "metadata": {},
   "outputs": [],
   "source": [
    "df_ingredients['match'] = match_col\n",
    "df_ingredients['order'] = order_col\n",
    "df_ingredients['note'] = note_col"
   ]
  },
  {
   "cell_type": "code",
   "execution_count": 22,
   "metadata": {},
   "outputs": [
    {
     "data": {
      "text/html": [
       "<div>\n",
       "<style scoped>\n",
       "    .dataframe tbody tr th:only-of-type {\n",
       "        vertical-align: middle;\n",
       "    }\n",
       "\n",
       "    .dataframe tbody tr th {\n",
       "        vertical-align: top;\n",
       "    }\n",
       "\n",
       "    .dataframe thead th {\n",
       "        text-align: right;\n",
       "    }\n",
       "</style>\n",
       "<table border=\"1\" class=\"dataframe\">\n",
       "  <thead>\n",
       "    <tr style=\"text-align: right;\">\n",
       "      <th></th>\n",
       "      <th>ID</th>\n",
       "      <th>Ingredients</th>\n",
       "      <th>match</th>\n",
       "      <th>order</th>\n",
       "      <th>note</th>\n",
       "    </tr>\n",
       "  </thead>\n",
       "  <tbody>\n",
       "    <tr>\n",
       "      <th>0</th>\n",
       "      <td>1</td>\n",
       "      <td>gochujang base</td>\n",
       "      <td>gochujang base</td>\n",
       "      <td>2</td>\n",
       "      <td>Perfect</td>\n",
       "    </tr>\n",
       "    <tr>\n",
       "      <th>1</th>\n",
       "      <td>1</td>\n",
       "      <td>ketchup</td>\n",
       "      <td>ketchup</td>\n",
       "      <td>1</td>\n",
       "      <td>Perfect</td>\n",
       "    </tr>\n",
       "    <tr>\n",
       "      <th>2</th>\n",
       "      <td>1</td>\n",
       "      <td>maple syrup</td>\n",
       "      <td>maple syrup</td>\n",
       "      <td>2</td>\n",
       "      <td>Perfect</td>\n",
       "    </tr>\n",
       "    <tr>\n",
       "      <th>3</th>\n",
       "      <td>1</td>\n",
       "      <td>soy sauce</td>\n",
       "      <td>soy sauce</td>\n",
       "      <td>2</td>\n",
       "      <td>Perfect</td>\n",
       "    </tr>\n",
       "    <tr>\n",
       "      <th>4</th>\n",
       "      <td>1</td>\n",
       "      <td>seasoned rice wine vinegar</td>\n",
       "      <td>seasoned rice wine vinegar</td>\n",
       "      <td>4</td>\n",
       "      <td>Perfect</td>\n",
       "    </tr>\n",
       "    <tr>\n",
       "      <th>...</th>\n",
       "      <td>...</td>\n",
       "      <td>...</td>\n",
       "      <td>...</td>\n",
       "      <td>...</td>\n",
       "      <td>...</td>\n",
       "    </tr>\n",
       "    <tr>\n",
       "      <th>26173</th>\n",
       "      <td>902</td>\n",
       "      <td>banana</td>\n",
       "      <td>banana</td>\n",
       "      <td>1</td>\n",
       "      <td>Perfect</td>\n",
       "    </tr>\n",
       "    <tr>\n",
       "      <th>26174</th>\n",
       "      <td>902</td>\n",
       "      <td>almond milk</td>\n",
       "      <td>almond milk</td>\n",
       "      <td>2</td>\n",
       "      <td>Perfect</td>\n",
       "    </tr>\n",
       "    <tr>\n",
       "      <th>26175</th>\n",
       "      <td>902</td>\n",
       "      <td>packet frozen acai</td>\n",
       "      <td>za'atar</td>\n",
       "      <td>0</td>\n",
       "      <td>Not perfect</td>\n",
       "    </tr>\n",
       "    <tr>\n",
       "      <th>26176</th>\n",
       "      <td>903</td>\n",
       "      <td>banana</td>\n",
       "      <td>banana</td>\n",
       "      <td>1</td>\n",
       "      <td>Perfect</td>\n",
       "    </tr>\n",
       "    <tr>\n",
       "      <th>26177</th>\n",
       "      <td>903</td>\n",
       "      <td>almond milk</td>\n",
       "      <td>almond milk</td>\n",
       "      <td>2</td>\n",
       "      <td>Perfect</td>\n",
       "    </tr>\n",
       "  </tbody>\n",
       "</table>\n",
       "<p>26178 rows × 5 columns</p>\n",
       "</div>"
      ],
      "text/plain": [
       "        ID                 Ingredients                       match  order  \\\n",
       "0        1              gochujang base              gochujang base      2   \n",
       "1        1                     ketchup                     ketchup      1   \n",
       "2        1                 maple syrup                 maple syrup      2   \n",
       "3        1                   soy sauce                   soy sauce      2   \n",
       "4        1  seasoned rice wine vinegar  seasoned rice wine vinegar      4   \n",
       "...    ...                         ...                         ...    ...   \n",
       "26173  902                      banana                      banana      1   \n",
       "26174  902                 almond milk                 almond milk      2   \n",
       "26175  902          packet frozen acai                     za'atar      0   \n",
       "26176  903                      banana                      banana      1   \n",
       "26177  903                 almond milk                 almond milk      2   \n",
       "\n",
       "              note  \n",
       "0          Perfect  \n",
       "1          Perfect  \n",
       "2          Perfect  \n",
       "3          Perfect  \n",
       "4          Perfect  \n",
       "...            ...  \n",
       "26173      Perfect  \n",
       "26174      Perfect  \n",
       "26175  Not perfect  \n",
       "26176      Perfect  \n",
       "26177      Perfect  \n",
       "\n",
       "[26178 rows x 5 columns]"
      ]
     },
     "execution_count": 22,
     "metadata": {},
     "output_type": "execute_result"
    }
   ],
   "source": [
    "df_ingredients"
   ]
  },
  {
   "cell_type": "code",
   "execution_count": 24,
   "metadata": {},
   "outputs": [],
   "source": [
    "df_ingredients.to_csv('ingredients_PCA_with_notes.csv')"
   ]
  },
  {
   "cell_type": "code",
   "execution_count": 19,
   "metadata": {},
   "outputs": [],
   "source": [
    "not_perfect = df_ingredients[df_ingredients['note'] == 'Not perfect']"
   ]
  },
  {
   "cell_type": "code",
   "execution_count": 21,
   "metadata": {},
   "outputs": [],
   "source": [
    "not_perfect.to_csv('not_perfect.csv')"
   ]
  },
  {
   "cell_type": "code",
   "execution_count": 24,
   "metadata": {},
   "outputs": [
    {
     "data": {
      "text/plain": [
       "{'base sauce': {},\n",
       " 'beef base': {},\n",
       " 'chicken base': {},\n",
       " 'clam base': {},\n",
       " 'crab base': {},\n",
       " 'gochujang base': {},\n",
       " 'gumbo base': {},\n",
       " 'lobster base': {},\n",
       " 'vegetable base': {}}"
      ]
     },
     "execution_count": 24,
     "metadata": {},
     "output_type": "execute_result"
    }
   ],
   "source": [
    "data.get('base')"
   ]
  },
  {
   "cell_type": "code",
   "execution_count": 80,
   "metadata": {},
   "outputs": [
    {
     "name": "stdout",
     "output_type": "stream",
     "text": [
      "gochujang base ('gochujang base', 2)\n",
      "ketchup ('ketchup', 1)\n",
      "maple syrup ('maple syrup', 2)\n",
      "soy sauce ('soy sauce', 2)\n",
      "seasoned rice wine vinegar ('seasoned rice wine vinegar', 4)\n",
      "sugar ('sugar', 1)\n",
      "sesame oil ('sesame oil', 2)\n",
      "water ('water', 1)\n",
      "ginger ('ginger', 1)\n",
      "garlic ('garlic', 1)\n",
      "chicken thighs ('chicken thighs', 2)\n",
      "eggs ('eggs', 1)\n",
      "corn flour ('corn flour', 2)\n",
      "flour ('flour', 1)\n",
      "soda ('soda', 1)\n",
      "garlic powder ('garlic powder', 2)\n",
      "onion salt ('onion salt', 2)\n",
      "spring onion ('spring onion', 2)\n",
      "test\n",
      "white [('whitebait', 0)]\n",
      "sesame seeds ('sesame seeds', 2)\n",
      "mayonnaise ('mayonnaise', 1)\n",
      "salt ('salt', 1)\n",
      "pepper ('pepper', 1)\n",
      "vegetable oil ('vegetable oil', 2)\n"
     ]
    }
   ],
   "source": [
    "for i in df_ingredients_agged.iloc[0, -1]:\n",
    "    print(i, find(i, [data], 1, []))"
   ]
  },
  {
   "cell_type": "code",
   "execution_count": null,
   "metadata": {},
   "outputs": [],
   "source": []
  }
 ],
 "metadata": {
  "kernelspec": {
   "display_name": "base",
   "language": "python",
   "name": "python3"
  },
  "language_info": {
   "codemirror_mode": {
    "name": "ipython",
    "version": 3
   },
   "file_extension": ".py",
   "mimetype": "text/x-python",
   "name": "python",
   "nbconvert_exporter": "python",
   "pygments_lexer": "ipython3",
   "version": "3.9.18"
  }
 },
 "nbformat": 4,
 "nbformat_minor": 2
}
