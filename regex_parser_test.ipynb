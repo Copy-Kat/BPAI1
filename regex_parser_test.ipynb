{
 "cells": [
  {
   "cell_type": "code",
   "execution_count": 16,
   "metadata": {},
   "outputs": [],
   "source": [
    "import nltk\n",
    "gram = (\"NP: {<N.*>*}\")"
   ]
  },
  {
   "cell_type": "code",
   "execution_count": 64,
   "metadata": {},
   "outputs": [],
   "source": [
    "sent = \"1 teaspoon vanilla extract\""
   ]
  },
  {
   "cell_type": "code",
   "execution_count": 65,
   "metadata": {},
   "outputs": [
    {
     "data": {
      "text/plain": [
       "['teaspoon', 'vanilla', 'extract']"
      ]
     },
     "execution_count": 65,
     "metadata": {},
     "output_type": "execute_result"
    }
   ],
   "source": [
    "chunking = nltk.RegexpParser(gram)\n",
    "sent_token = nltk.word_tokenize(sent)\n",
    "tagging = nltk.pos_tag(sent_token)\n",
    "tree = chunking.parse(tagging)\n",
    "\n",
    "result = []\n",
    "\n",
    "for subtree in tree.subtrees():\n",
    "    if subtree.label() == 'NP':\n",
    "        result.extend(subtree.leaves())\n",
    "        \n",
    "[x[0] for x in result]"
   ]
  },
  {
   "cell_type": "code",
   "execution_count": 4,
   "metadata": {},
   "outputs": [],
   "source": [
    "tree.draw()"
   ]
  },
  {
   "cell_type": "code",
   "execution_count": null,
   "metadata": {},
   "outputs": [],
   "source": []
  }
 ],
 "metadata": {
  "kernelspec": {
   "display_name": "base",
   "language": "python",
   "name": "python3"
  },
  "language_info": {
   "codemirror_mode": {
    "name": "ipython",
    "version": 3
   },
   "file_extension": ".py",
   "mimetype": "text/x-python",
   "name": "python",
   "nbconvert_exporter": "python",
   "pygments_lexer": "ipython3",
   "version": "3.9.18"
  }
 },
 "nbformat": 4,
 "nbformat_minor": 2
}
