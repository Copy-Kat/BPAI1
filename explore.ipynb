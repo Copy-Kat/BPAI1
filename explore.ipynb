{
 "cells": [
  {
   "cell_type": "code",
   "execution_count": 1,
   "metadata": {},
   "outputs": [],
   "source": [
    "import spacy\n",
    "\n",
    "nlp = spacy.load(\"en_core_web_sm\")"
   ]
  },
  {
   "cell_type": "code",
   "execution_count": 2,
   "metadata": {},
   "outputs": [],
   "source": [
    "sents = []\n",
    "\n",
    "with open('datasets/finer.conll', 'r') as file:\n",
    "    \n",
    "    sent = []\n",
    "    \n",
    "    for line in file.readlines():\n",
    "        if line == '\\n':\n",
    "            sents.append(sent)\n",
    "            sent = []\n",
    "            continue\n",
    "        sent.append(tuple(line.strip().split(' \\t ')))\n"
   ]
  },
  {
   "cell_type": "code",
   "execution_count": 3,
   "metadata": {},
   "outputs": [
    {
     "data": {
      "text/plain": [
       "[[('1', 'B-QUANTITY'),\n",
       "  ('slice', 'B-UNIT'),\n",
       "  ('whole', 'B-ING'),\n",
       "  ('wheat', 'I-ING'),\n",
       "  ('bread', 'I-ING')],\n",
       " [('0.5', 'B-QUANTITY'),\n",
       "  ('(', 'O'),\n",
       "  ('1', 'B-QUANTITY'),\n",
       "  ('ounce', 'B-UNIT'),\n",
       "  (')', 'O'),\n",
       "  ('package', 'B-UNIT'),\n",
       "  ('dry', 'B-ING'),\n",
       "  ('ranch', 'I-ING'),\n",
       "  ('-', 'I-ING'),\n",
       "  ('style', 'I-ING'),\n",
       "  ('dressing', 'I-ING'),\n",
       "  ('mix', 'I-ING')]]"
      ]
     },
     "execution_count": 3,
     "metadata": {},
     "output_type": "execute_result"
    }
   ],
   "source": [
    "sents[:2]"
   ]
  },
  {
   "cell_type": "code",
   "execution_count": 40,
   "metadata": {},
   "outputs": [],
   "source": [
    "sent_id = []\n",
    "token_text = []\n",
    "token_lemma = [] \n",
    "token_pos = [] \n",
    "token_tag = [] \n",
    "token_dep = []\n",
    "token_shape = [] \n",
    "token_is_alpha = [] \n",
    "token_is_stop = []\n",
    "\n",
    "for idx, sent in enumerate(sents):\n",
    "    doc = nlp(\" \".join([x[0] for x in sent]))\n",
    "    for token in doc:\n",
    "        sent_id.append(idx)\n",
    "        token_text.append(token.text)\n",
    "        token_lemma.append(token.lemma_) \n",
    "        token_pos.append(token.pos_) \n",
    "        token_tag.append(token.tag_) \n",
    "        token_dep.append(token.dep_)\n",
    "        token_shape.append(token.shape_) \n",
    "        token_is_alpha.append(token.is_alpha) \n",
    "        token_is_stop.append(token.is_stop)\n",
    "\n",
    "NER_tags = [x[1] for sent in sents for x in sent]"
   ]
  },
  {
   "cell_type": "code",
   "execution_count": 45,
   "metadata": {},
   "outputs": [],
   "source": [
    "import pandas as pd\n",
    "\n",
    "df = pd.DataFrame({\n",
    "    \"sent_id\" : sent_id,\n",
    "    \"token_text\" : token_text,\n",
    "    \"token_lemma\" : token_lemma, \n",
    "    \"token_pos\" : token_pos, \n",
    "    \"token_tag\" : token_tag, \n",
    "    \"token_dep\" : token_dep,\n",
    "    \"token_shape\" : token_shape, \n",
    "    \"token_is_alpha\" : token_is_alpha, \n",
    "    \"token_is_stop\" : token_is_stop,\n",
    "    \"NER_tags\" : NER_tags\n",
    "})\n"
   ]
  },
  {
   "cell_type": "code",
   "execution_count": 46,
   "metadata": {},
   "outputs": [
    {
     "data": {
      "text/html": [
       "<div>\n",
       "<style scoped>\n",
       "    .dataframe tbody tr th:only-of-type {\n",
       "        vertical-align: middle;\n",
       "    }\n",
       "\n",
       "    .dataframe tbody tr th {\n",
       "        vertical-align: top;\n",
       "    }\n",
       "\n",
       "    .dataframe thead th {\n",
       "        text-align: right;\n",
       "    }\n",
       "</style>\n",
       "<table border=\"1\" class=\"dataframe\">\n",
       "  <thead>\n",
       "    <tr style=\"text-align: right;\">\n",
       "      <th></th>\n",
       "      <th>sent_id</th>\n",
       "      <th>token_text</th>\n",
       "      <th>token_lemma</th>\n",
       "      <th>token_pos</th>\n",
       "      <th>token_tag</th>\n",
       "      <th>token_dep</th>\n",
       "      <th>token_shape</th>\n",
       "      <th>token_is_alpha</th>\n",
       "      <th>token_is_stop</th>\n",
       "      <th>NER_tags</th>\n",
       "    </tr>\n",
       "  </thead>\n",
       "  <tbody>\n",
       "    <tr>\n",
       "      <th>0</th>\n",
       "      <td>0</td>\n",
       "      <td>1</td>\n",
       "      <td>1</td>\n",
       "      <td>NUM</td>\n",
       "      <td>CD</td>\n",
       "      <td>nummod</td>\n",
       "      <td>d</td>\n",
       "      <td>False</td>\n",
       "      <td>False</td>\n",
       "      <td>B-QUANTITY</td>\n",
       "    </tr>\n",
       "    <tr>\n",
       "      <th>1</th>\n",
       "      <td>0</td>\n",
       "      <td>slice</td>\n",
       "      <td>slice</td>\n",
       "      <td>NOUN</td>\n",
       "      <td>NN</td>\n",
       "      <td>nmod</td>\n",
       "      <td>xxxx</td>\n",
       "      <td>True</td>\n",
       "      <td>False</td>\n",
       "      <td>B-UNIT</td>\n",
       "    </tr>\n",
       "    <tr>\n",
       "      <th>2</th>\n",
       "      <td>0</td>\n",
       "      <td>whole</td>\n",
       "      <td>whole</td>\n",
       "      <td>ADJ</td>\n",
       "      <td>JJ</td>\n",
       "      <td>amod</td>\n",
       "      <td>xxxx</td>\n",
       "      <td>True</td>\n",
       "      <td>True</td>\n",
       "      <td>B-ING</td>\n",
       "    </tr>\n",
       "    <tr>\n",
       "      <th>3</th>\n",
       "      <td>0</td>\n",
       "      <td>wheat</td>\n",
       "      <td>wheat</td>\n",
       "      <td>NOUN</td>\n",
       "      <td>NN</td>\n",
       "      <td>compound</td>\n",
       "      <td>xxxx</td>\n",
       "      <td>True</td>\n",
       "      <td>False</td>\n",
       "      <td>I-ING</td>\n",
       "    </tr>\n",
       "    <tr>\n",
       "      <th>4</th>\n",
       "      <td>0</td>\n",
       "      <td>bread</td>\n",
       "      <td>bread</td>\n",
       "      <td>NOUN</td>\n",
       "      <td>NN</td>\n",
       "      <td>ROOT</td>\n",
       "      <td>xxxx</td>\n",
       "      <td>True</td>\n",
       "      <td>False</td>\n",
       "      <td>I-ING</td>\n",
       "    </tr>\n",
       "    <tr>\n",
       "      <th>...</th>\n",
       "      <td>...</td>\n",
       "      <td>...</td>\n",
       "      <td>...</td>\n",
       "      <td>...</td>\n",
       "      <td>...</td>\n",
       "      <td>...</td>\n",
       "      <td>...</td>\n",
       "      <td>...</td>\n",
       "      <td>...</td>\n",
       "      <td>...</td>\n",
       "    </tr>\n",
       "    <tr>\n",
       "      <th>1397955</th>\n",
       "      <td>181969</td>\n",
       "      <td>cut</td>\n",
       "      <td>cut</td>\n",
       "      <td>VERB</td>\n",
       "      <td>VBD</td>\n",
       "      <td>ROOT</td>\n",
       "      <td>xxx</td>\n",
       "      <td>True</td>\n",
       "      <td>False</td>\n",
       "      <td>B-STATE</td>\n",
       "    </tr>\n",
       "    <tr>\n",
       "      <th>1397956</th>\n",
       "      <td>181969</td>\n",
       "      <td>into</td>\n",
       "      <td>into</td>\n",
       "      <td>ADP</td>\n",
       "      <td>IN</td>\n",
       "      <td>prep</td>\n",
       "      <td>xxxx</td>\n",
       "      <td>True</td>\n",
       "      <td>True</td>\n",
       "      <td>I-STATE</td>\n",
       "    </tr>\n",
       "    <tr>\n",
       "      <th>1397957</th>\n",
       "      <td>181969</td>\n",
       "      <td>2</td>\n",
       "      <td>2</td>\n",
       "      <td>NUM</td>\n",
       "      <td>CD</td>\n",
       "      <td>nummod</td>\n",
       "      <td>d</td>\n",
       "      <td>False</td>\n",
       "      <td>False</td>\n",
       "      <td>I-STATE</td>\n",
       "    </tr>\n",
       "    <tr>\n",
       "      <th>1397958</th>\n",
       "      <td>181969</td>\n",
       "      <td>inch</td>\n",
       "      <td>inch</td>\n",
       "      <td>NOUN</td>\n",
       "      <td>NN</td>\n",
       "      <td>compound</td>\n",
       "      <td>xxxx</td>\n",
       "      <td>True</td>\n",
       "      <td>False</td>\n",
       "      <td>I-STATE</td>\n",
       "    </tr>\n",
       "    <tr>\n",
       "      <th>1397959</th>\n",
       "      <td>181969</td>\n",
       "      <td>chunks</td>\n",
       "      <td>chunk</td>\n",
       "      <td>NOUN</td>\n",
       "      <td>NNS</td>\n",
       "      <td>pobj</td>\n",
       "      <td>xxxx</td>\n",
       "      <td>True</td>\n",
       "      <td>False</td>\n",
       "      <td>I-STATE</td>\n",
       "    </tr>\n",
       "  </tbody>\n",
       "</table>\n",
       "<p>1397960 rows × 10 columns</p>\n",
       "</div>"
      ],
      "text/plain": [
       "         sent_id token_text token_lemma token_pos token_tag token_dep  \\\n",
       "0              0          1           1       NUM        CD    nummod   \n",
       "1              0      slice       slice      NOUN        NN      nmod   \n",
       "2              0      whole       whole       ADJ        JJ      amod   \n",
       "3              0      wheat       wheat      NOUN        NN  compound   \n",
       "4              0      bread       bread      NOUN        NN      ROOT   \n",
       "...          ...        ...         ...       ...       ...       ...   \n",
       "1397955   181969        cut         cut      VERB       VBD      ROOT   \n",
       "1397956   181969       into        into       ADP        IN      prep   \n",
       "1397957   181969          2           2       NUM        CD    nummod   \n",
       "1397958   181969       inch        inch      NOUN        NN  compound   \n",
       "1397959   181969     chunks       chunk      NOUN       NNS      pobj   \n",
       "\n",
       "        token_shape  token_is_alpha  token_is_stop    NER_tags  \n",
       "0                 d           False          False  B-QUANTITY  \n",
       "1              xxxx            True          False      B-UNIT  \n",
       "2              xxxx            True           True       B-ING  \n",
       "3              xxxx            True          False       I-ING  \n",
       "4              xxxx            True          False       I-ING  \n",
       "...             ...             ...            ...         ...  \n",
       "1397955         xxx            True          False     B-STATE  \n",
       "1397956        xxxx            True           True     I-STATE  \n",
       "1397957           d           False          False     I-STATE  \n",
       "1397958        xxxx            True          False     I-STATE  \n",
       "1397959        xxxx            True          False     I-STATE  \n",
       "\n",
       "[1397960 rows x 10 columns]"
      ]
     },
     "execution_count": 46,
     "metadata": {},
     "output_type": "execute_result"
    }
   ],
   "source": [
    "df"
   ]
  },
  {
   "cell_type": "code",
   "execution_count": 48,
   "metadata": {},
   "outputs": [],
   "source": [
    "df.to_csv('cleaned.csv')"
   ]
  },
  {
   "cell_type": "code",
   "execution_count": 39,
   "metadata": {},
   "outputs": [
    {
     "name": "stdout",
     "output_type": "stream",
     "text": [
      "[0, 0, 0, 0, 0] ['1', 'slice', 'whole', 'wheat', 'bread'] ['1', 'slice', 'whole', 'wheat', 'bread'] ['NUM', 'NOUN', 'ADJ', 'NOUN', 'NOUN'] ['CD', 'NN', 'JJ', 'NN', 'NN'] ['nummod', 'nmod', 'amod', 'compound', 'ROOT'] ['d', 'xxxx', 'xxxx', 'xxxx', 'xxxx'] [False, True, True, True, True] [False, False, True, False, False] ['B-QUANTITY', 'B-UNIT', 'B-ING', 'I-ING']\n"
     ]
    }
   ],
   "source": [
    "print(sent_id, token_text, token_lemma, token_pos, token_tag, token_dep, token_shape, token_is_alpha, token_is_stop, NER_tags[:4])"
   ]
  },
  {
   "cell_type": "code",
   "execution_count": 32,
   "metadata": {},
   "outputs": [
    {
     "ename": "AttributeError",
     "evalue": "'spacy.tokens.doc.Doc' object has no attribute 'pos_'",
     "output_type": "error",
     "traceback": [
      "\u001b[1;31m---------------------------------------------------------------------------\u001b[0m",
      "\u001b[1;31mAttributeError\u001b[0m                            Traceback (most recent call last)",
      "\u001b[1;32md:\\code_practice\\BPAI\\explore.ipynb Cell 5\u001b[0m line \u001b[0;36m1\n\u001b[1;32m----> <a href='vscode-notebook-cell:/d%3A/code_practice/BPAI/explore.ipynb#W3sZmlsZQ%3D%3D?line=0'>1</a>\u001b[0m complete_sent_anal[\u001b[39m0\u001b[39;49m]\u001b[39m.\u001b[39;49mpos_\n",
      "\u001b[1;31mAttributeError\u001b[0m: 'spacy.tokens.doc.Doc' object has no attribute 'pos_'"
     ]
    }
   ],
   "source": [
    "complete_sent_anal[0].pos_"
   ]
  },
  {
   "cell_type": "code",
   "execution_count": 26,
   "metadata": {},
   "outputs": [],
   "source": [
    "with open(\"sents.txt\", \"w\") as f:\n",
    "    for sent in complete_sents:\n",
    "        f.write(sent + '\\n')"
   ]
  },
  {
   "cell_type": "code",
   "execution_count": 12,
   "metadata": {},
   "outputs": [
    {
     "name": "stdout",
     "output_type": "stream",
     "text": [
      "[('1', 'CD'), ('tablespoon', 'NN'), ('ketchup', 'NN'), ('salt', 'NN'), ('and', 'CC'), ('pepper', 'NN'), ('to', 'TO'), ('taste', 'VB')]\n",
      "1_CD\n",
      "tablespoon_NN\n",
      "ketchup_NN\n",
      "salt_NN\n",
      "and_CC\n",
      "pepper_NN\n",
      "to_TO\n",
      "taste_VB\n"
     ]
    }
   ],
   "source": [
    "import nltk\n",
    "from nltk import word_tokenize\n",
    "from nltk import StanfordTagger\n",
    " \n",
    "text_tok = nltk.word_tokenize(\"1 tablespoon ketchup salt and pepper to taste\")\n",
    " \n",
    "# print(text_tok)\n",
    "pos_tagged = nltk.pos_tag(text_tok)\n",
    " \n",
    "# print the list of tuples: (word,word_class)\n",
    "print(pos_tagged)\n",
    " \n",
    "# for loop to extract the elements of the tuples in the pos_tagged list\n",
    "# print the word and the pos_tag with the underscore as a delimiter\n",
    "for word,word_class in pos_tagged:\n",
    "    print(word + \"_\" + word_class)"
   ]
  },
  {
   "cell_type": "code",
   "execution_count": 11,
   "metadata": {},
   "outputs": [
    {
     "name": "stdout",
     "output_type": "stream",
     "text": [
      "1 1 NUM CD nummod d False False\n",
      "tablespoon tablespoon NOUN NN compound xxxx True False\n",
      "ketchup ketchup NOUN NN compound xxxx True False\n",
      "salt salt NOUN NN nsubj xxxx True False\n",
      "and and CCONJ CC cc xxx True True\n",
      "pepper pepper NOUN NN conj xxxx True False\n",
      "to to PART TO aux xx True True\n",
      "taste taste VERB VB ROOT xxxx True False\n"
     ]
    }
   ],
   "source": [
    "import spacy\n",
    "\n",
    "nlp = spacy.load(\"en_core_web_sm\")\n",
    "doc = nlp(\"1 tablespoon ketchup salt and pepper to taste\")\n",
    "\n",
    "for token in doc:\n",
    "    print(token.text, token.lemma_, token.pos_, token.tag_, token.dep_,\n",
    "            token.shape_, token.is_alpha, token.is_stop)"
   ]
  },
  {
   "cell_type": "code",
   "execution_count": null,
   "metadata": {},
   "outputs": [],
   "source": []
  },
  {
   "cell_type": "code",
   "execution_count": 49,
   "metadata": {},
   "outputs": [],
   "source": [
    "import nltk\n",
    "from nltk.stem import WordNetLemmatizer\n",
    "from nltk import word_tokenize\n",
    "from nltk import StanfordTagger\n",
    "\n",
    "lemmatizer = WordNetLemmatizer()"
   ]
  },
  {
   "cell_type": "code",
   "execution_count": 84,
   "metadata": {},
   "outputs": [],
   "source": [
    "sents = []\n",
    "\n",
    "with open('datasets/Recipedb-companion-data/ar_gk_test.tsv', 'r') as file:\n",
    "    \n",
    "    sent = []\n",
    "    \n",
    "    for line in file.readlines():\n",
    "        if line == '\\t\\n':\n",
    "            sents.append(sent)\n",
    "            sent = []\n",
    "            continue\n",
    "        sent.append(tuple(line.strip().split('\\t')))\n",
    "        # print(tuple(line.strip().split('\\t')))\n",
    "        # break"
   ]
  },
  {
   "cell_type": "code",
   "execution_count": 85,
   "metadata": {},
   "outputs": [
    {
     "data": {
      "text/plain": [
       "[[('1/2', 'QUANTITY'),\n",
       "  ('large', 'SIZE'),\n",
       "  ('sweet', 'NAME'),\n",
       "  ('red', 'NAME'),\n",
       "  ('onion', 'NAME'),\n",
       "  (',', 'O'),\n",
       "  ('thinly', 'O'),\n",
       "  ('sliced', 'STATE')],\n",
       " [('6', 'QUANTITY'),\n",
       "  ('ounces', 'UNIT'),\n",
       "  ('fresh', 'DF'),\n",
       "  ('mushrooms', 'NAME'),\n",
       "  (',', 'O'),\n",
       "  ('sliced', 'STATE')]]"
      ]
     },
     "execution_count": 85,
     "metadata": {},
     "output_type": "execute_result"
    }
   ],
   "source": [
    "sents[:2]"
   ]
  },
  {
   "cell_type": "code",
   "execution_count": 86,
   "metadata": {},
   "outputs": [],
   "source": [
    "sent_id = []\n",
    "token_text = []\n",
    "token_lemma = [] \n",
    "token_tag = [] \n",
    "\n",
    "for idx, sent in enumerate(sents):\n",
    "    tokens = [x[0] for x in sent]\n",
    "    pos_tagged = nltk.pos_tag(tokens)\n",
    "    for ids, token in enumerate(pos_tagged):\n",
    "        sent_id.append(idx)\n",
    "        token_text.append(token[0])\n",
    "        token_lemma.append(lemmatizer.lemmatize(token[0])) \n",
    "        token_tag.append(token[1])\n",
    "\n",
    "NER_tags = [x[1] for sent in sents for x in sent]"
   ]
  },
  {
   "cell_type": "code",
   "execution_count": 87,
   "metadata": {},
   "outputs": [],
   "source": [
    "current_tag = ''\n",
    "\n",
    "for idx, tag in enumerate(NER_tags):\n",
    "    if tag in ['O', 'DF', 'TEMP', 'SIZE']:\n",
    "        continue\n",
    "    \n",
    "    if tag != current_tag:\n",
    "        NER_tags[idx] = 'B-' + tag\n",
    "        \n",
    "    if tag == current_tag:\n",
    "        NER_tags[idx] = 'I-' + tag\n",
    "    \n",
    "    current_tag = tag"
   ]
  },
  {
   "cell_type": "code",
   "execution_count": 89,
   "metadata": {},
   "outputs": [],
   "source": [
    "import pandas as pd\n",
    "\n",
    "df = pd.DataFrame({\n",
    "    \"sent_id\" : sent_id,\n",
    "    \"token_text\" : token_text,\n",
    "    \"token_lemma\" : token_lemma, \n",
    "    \"token_tag\" : token_tag, \n",
    "    \"NER_tags\" : NER_tags\n",
    "})"
   ]
  },
  {
   "cell_type": "code",
   "execution_count": 90,
   "metadata": {},
   "outputs": [
    {
     "data": {
      "text/html": [
       "<div>\n",
       "<style scoped>\n",
       "    .dataframe tbody tr th:only-of-type {\n",
       "        vertical-align: middle;\n",
       "    }\n",
       "\n",
       "    .dataframe tbody tr th {\n",
       "        vertical-align: top;\n",
       "    }\n",
       "\n",
       "    .dataframe thead th {\n",
       "        text-align: right;\n",
       "    }\n",
       "</style>\n",
       "<table border=\"1\" class=\"dataframe\">\n",
       "  <thead>\n",
       "    <tr style=\"text-align: right;\">\n",
       "      <th></th>\n",
       "      <th>sent_id</th>\n",
       "      <th>token_text</th>\n",
       "      <th>token_lemma</th>\n",
       "      <th>token_tag</th>\n",
       "      <th>NER_tags</th>\n",
       "    </tr>\n",
       "  </thead>\n",
       "  <tbody>\n",
       "    <tr>\n",
       "      <th>0</th>\n",
       "      <td>0</td>\n",
       "      <td>1/2</td>\n",
       "      <td>1/2</td>\n",
       "      <td>CD</td>\n",
       "      <td>B-QUANTITY</td>\n",
       "    </tr>\n",
       "    <tr>\n",
       "      <th>1</th>\n",
       "      <td>0</td>\n",
       "      <td>large</td>\n",
       "      <td>large</td>\n",
       "      <td>JJ</td>\n",
       "      <td>SIZE</td>\n",
       "    </tr>\n",
       "    <tr>\n",
       "      <th>2</th>\n",
       "      <td>0</td>\n",
       "      <td>sweet</td>\n",
       "      <td>sweet</td>\n",
       "      <td>JJ</td>\n",
       "      <td>B-NAME</td>\n",
       "    </tr>\n",
       "    <tr>\n",
       "      <th>3</th>\n",
       "      <td>0</td>\n",
       "      <td>red</td>\n",
       "      <td>red</td>\n",
       "      <td>JJ</td>\n",
       "      <td>I-NAME</td>\n",
       "    </tr>\n",
       "    <tr>\n",
       "      <th>4</th>\n",
       "      <td>0</td>\n",
       "      <td>onion</td>\n",
       "      <td>onion</td>\n",
       "      <td>NN</td>\n",
       "      <td>I-NAME</td>\n",
       "    </tr>\n",
       "    <tr>\n",
       "      <th>...</th>\n",
       "      <td>...</td>\n",
       "      <td>...</td>\n",
       "      <td>...</td>\n",
       "      <td>...</td>\n",
       "      <td>...</td>\n",
       "    </tr>\n",
       "    <tr>\n",
       "      <th>12665</th>\n",
       "      <td>2186</td>\n",
       "      <td>bottled</td>\n",
       "      <td>bottled</td>\n",
       "      <td>VBD</td>\n",
       "      <td>O</td>\n",
       "    </tr>\n",
       "    <tr>\n",
       "      <th>12666</th>\n",
       "      <td>2186</td>\n",
       "      <td>is</td>\n",
       "      <td>is</td>\n",
       "      <td>VBZ</td>\n",
       "      <td>O</td>\n",
       "    </tr>\n",
       "    <tr>\n",
       "      <th>12667</th>\n",
       "      <td>2186</td>\n",
       "      <td>ok</td>\n",
       "      <td>ok</td>\n",
       "      <td>JJ</td>\n",
       "      <td>O</td>\n",
       "    </tr>\n",
       "    <tr>\n",
       "      <th>12668</th>\n",
       "      <td>2186</td>\n",
       "      <td>too</td>\n",
       "      <td>too</td>\n",
       "      <td>RB</td>\n",
       "      <td>O</td>\n",
       "    </tr>\n",
       "    <tr>\n",
       "      <th>12669</th>\n",
       "      <td>2186</td>\n",
       "      <td>-RRB-</td>\n",
       "      <td>-RRB-</td>\n",
       "      <td>JJ</td>\n",
       "      <td>O</td>\n",
       "    </tr>\n",
       "  </tbody>\n",
       "</table>\n",
       "<p>12670 rows × 5 columns</p>\n",
       "</div>"
      ],
      "text/plain": [
       "       sent_id token_text token_lemma token_tag    NER_tags\n",
       "0            0        1/2         1/2        CD  B-QUANTITY\n",
       "1            0      large       large        JJ        SIZE\n",
       "2            0      sweet       sweet        JJ      B-NAME\n",
       "3            0        red         red        JJ      I-NAME\n",
       "4            0      onion       onion        NN      I-NAME\n",
       "...        ...        ...         ...       ...         ...\n",
       "12665     2186    bottled     bottled       VBD           O\n",
       "12666     2186         is          is       VBZ           O\n",
       "12667     2186         ok          ok        JJ           O\n",
       "12668     2186        too         too        RB           O\n",
       "12669     2186      -RRB-       -RRB-        JJ           O\n",
       "\n",
       "[12670 rows x 5 columns]"
      ]
     },
     "execution_count": 90,
     "metadata": {},
     "output_type": "execute_result"
    }
   ],
   "source": [
    "df"
   ]
  },
  {
   "cell_type": "code",
   "execution_count": 1,
   "metadata": {},
   "outputs": [
    {
     "ename": "NameError",
     "evalue": "name 'df' is not defined",
     "output_type": "error",
     "traceback": [
      "\u001b[1;31m---------------------------------------------------------------------------\u001b[0m",
      "\u001b[1;31mNameError\u001b[0m                                 Traceback (most recent call last)",
      "Cell \u001b[1;32mIn[1], line 1\u001b[0m\n\u001b[1;32m----> 1\u001b[0m \u001b[43mdf\u001b[49m\u001b[38;5;241m.\u001b[39mto_csv(\u001b[38;5;124m'\u001b[39m\u001b[38;5;124mar_gk_test_cleaned.csv\u001b[39m\u001b[38;5;124m'\u001b[39m, index\u001b[38;5;241m=\u001b[39m\u001b[38;5;28;01mFalse\u001b[39;00m)\n",
      "\u001b[1;31mNameError\u001b[0m: name 'df' is not defined"
     ]
    }
   ],
   "source": [
    "df.to_csv('ar_gk_test_cleaned.csv', index=False)"
   ]
  },
  {
   "cell_type": "code",
   "execution_count": 2,
   "metadata": {
    "metadata": {}
   },
   "outputs": [],
   "source": [
    "import re\n",
    "\n",
    "id_re = re.compile(\"recipeID\\('([0-9])'\")\n",
    "step_re = re.compile(\"step\\('([0-9]*)', [0-9]*, '(.*)'\")\n",
    "ingredient_re = re.compile(\"ingredient\\('([0-9]*)', '(.*)'\")\n",
    "ingredientAndQuantity_re = re.compile(\"ingredientAndQuantity\\('([0-9]*)', '(.*)'\")"
   ]
  },
  {
   "cell_type": "code",
   "execution_count": 76,
   "metadata": {
    "metadata": {}
   },
   "outputs": [],
   "source": [
    "steps = []\n",
    "INQ = []\n",
    "ingredients = []\n",
    "\n",
    "with open('recipe_database.pl', 'r') as file:\n",
    "    \n",
    "    for line in file.readlines():\n",
    "        \n",
    "        if line[:4] == 'step':\n",
    "            steps.append([step_re.match(line).group(1), step_re.match(line).group(2)])\n",
    "        elif line[:21] == 'ingredientAndQuantity':\n",
    "            INQ.append([ingredientAndQuantity_re.match(line).group(1), ingredientAndQuantity_re.match(line).group(2)])\n",
    "        elif line[:10] == 'ingredient':\n",
    "            ingredients.append([ingredient_re.match(line).group(1), ingredient_re.match(line).group(2)])"
   ]
  },
  {
   "cell_type": "code",
   "execution_count": 78,
   "metadata": {
    "metadata": {}
   },
   "outputs": [
    {
     "data": {
      "text/html": [
       "<div>\n",
       "<style scoped>\n",
       "    .dataframe tbody tr th:only-of-type {\n",
       "        vertical-align: middle;\n",
       "    }\n",
       "\n",
       "    .dataframe tbody tr th {\n",
       "        vertical-align: top;\n",
       "    }\n",
       "\n",
       "    .dataframe thead th {\n",
       "        text-align: right;\n",
       "    }\n",
       "</style>\n",
       "<table border=\"1\" class=\"dataframe\">\n",
       "  <thead>\n",
       "    <tr style=\"text-align: right;\">\n",
       "      <th></th>\n",
       "      <th>ID</th>\n",
       "      <th>INQs</th>\n",
       "    </tr>\n",
       "  </thead>\n",
       "  <tbody>\n",
       "    <tr>\n",
       "      <th>0</th>\n",
       "      <td>1</td>\n",
       "      <td>4 tbsps gochujang</td>\n",
       "    </tr>\n",
       "    <tr>\n",
       "      <th>1</th>\n",
       "      <td>1</td>\n",
       "      <td>6 tbsps ketchup</td>\n",
       "    </tr>\n",
       "    <tr>\n",
       "      <th>2</th>\n",
       "      <td>1</td>\n",
       "      <td>6 tbsps maple syrup</td>\n",
       "    </tr>\n",
       "    <tr>\n",
       "      <th>3</th>\n",
       "      <td>1</td>\n",
       "      <td>4 tbsps soy sauce</td>\n",
       "    </tr>\n",
       "    <tr>\n",
       "      <th>4</th>\n",
       "      <td>1</td>\n",
       "      <td>2 tbsps rice wine vinegar</td>\n",
       "    </tr>\n",
       "    <tr>\n",
       "      <th>...</th>\n",
       "      <td>...</td>\n",
       "      <td>...</td>\n",
       "    </tr>\n",
       "    <tr>\n",
       "      <th>26127</th>\n",
       "      <td>902</td>\n",
       "      <td>1 small frozen banana (or half of a large banana)</td>\n",
       "    </tr>\n",
       "    <tr>\n",
       "      <th>26128</th>\n",
       "      <td>902</td>\n",
       "      <td>1 cup almond milk</td>\n",
       "    </tr>\n",
       "    <tr>\n",
       "      <th>26129</th>\n",
       "      <td>902</td>\n",
       "      <td>3.5 oz packet frozen acai</td>\n",
       "    </tr>\n",
       "    <tr>\n",
       "      <th>26130</th>\n",
       "      <td>903</td>\n",
       "      <td>1 small frozen banana (or half of a large banana)</td>\n",
       "    </tr>\n",
       "    <tr>\n",
       "      <th>26131</th>\n",
       "      <td>903</td>\n",
       "      <td>1 cup almond milk</td>\n",
       "    </tr>\n",
       "  </tbody>\n",
       "</table>\n",
       "<p>26132 rows × 2 columns</p>\n",
       "</div>"
      ],
      "text/plain": [
       "        ID                                               INQs\n",
       "0        1                                  4 tbsps gochujang\n",
       "1        1                                    6 tbsps ketchup\n",
       "2        1                                6 tbsps maple syrup\n",
       "3        1                                  4 tbsps soy sauce\n",
       "4        1                          2 tbsps rice wine vinegar\n",
       "...    ...                                                ...\n",
       "26127  902  1 small frozen banana (or half of a large banana)\n",
       "26128  902                                  1 cup almond milk\n",
       "26129  902                          3.5 oz packet frozen acai\n",
       "26130  903  1 small frozen banana (or half of a large banana)\n",
       "26131  903                                  1 cup almond milk\n",
       "\n",
       "[26132 rows x 2 columns]"
      ]
     },
     "execution_count": 78,
     "metadata": {},
     "output_type": "execute_result"
    }
   ],
   "source": [
    "df_INQ"
   ]
  },
  {
   "cell_type": "code",
   "execution_count": 77,
   "metadata": {
    "metadata": {}
   },
   "outputs": [],
   "source": [
    "df_INQ.to_csv('df_INQ_test.csv')"
   ]
  },
  {
   "cell_type": "code",
   "execution_count": 79,
   "metadata": {
    "metadata": {}
   },
   "outputs": [],
   "source": [
    "import pandas as pd\n",
    "\n",
    "pd.set_option('max_colwidth', 400)\n",
    "\n",
    "df_steps = pd.DataFrame(steps, columns=['ID', 'Steps'])\n",
    "df_INQ = pd.DataFrame(INQ, columns=['ID', 'INQs'], dtype=pd.StringDtype())\n",
    "df_ingredients = pd.DataFrame(ingredients, columns=['ID', 'Ingredients'])"
   ]
  },
  {
   "cell_type": "code",
   "execution_count": 81,
   "metadata": {
    "metadata": {}
   },
   "outputs": [],
   "source": [
    "df_ingredients.to_csv('df_ingredients_clean.csv')"
   ]
  },
  {
   "cell_type": "code",
   "execution_count": 6,
   "metadata": {
    "metadata": {}
   },
   "outputs": [
    {
     "data": {
      "text/plain": [
       "8"
      ]
     },
     "metadata": {},
     "output_type": "display_data"
    },
    {
     "data": {
      "text/html": [
       "<div>\n",
       "<style scoped>\n",
       "    .dataframe tbody tr th:only-of-type {\n",
       "        vertical-align: middle;\n",
       "    }\n",
       "\n",
       "    .dataframe tbody tr th {\n",
       "        vertical-align: top;\n",
       "    }\n",
       "\n",
       "    .dataframe thead th {\n",
       "        text-align: right;\n",
       "    }\n",
       "</style>\n",
       "<table border=\"1\" class=\"dataframe\">\n",
       "  <thead>\n",
       "    <tr style=\"text-align: right;\">\n",
       "      <th></th>\n",
       "      <th>ID</th>\n",
       "      <th>Ingredients</th>\n",
       "    </tr>\n",
       "  </thead>\n",
       "  <tbody>\n",
       "    <tr>\n",
       "      <th>126</th>\n",
       "      <td>10</td>\n",
       "      <td>garlic</td>\n",
       "    </tr>\n",
       "    <tr>\n",
       "      <th>127</th>\n",
       "      <td>10</td>\n",
       "      <td>sourdough</td>\n",
       "    </tr>\n",
       "    <tr>\n",
       "      <th>128</th>\n",
       "      <td>10</td>\n",
       "      <td>goat cheese</td>\n",
       "    </tr>\n",
       "    <tr>\n",
       "      <th>129</th>\n",
       "      <td>10</td>\n",
       "      <td>chives</td>\n",
       "    </tr>\n",
       "    <tr>\n",
       "      <th>130</th>\n",
       "      <td>10</td>\n",
       "      <td>sunflower oil</td>\n",
       "    </tr>\n",
       "    <tr>\n",
       "      <th>131</th>\n",
       "      <td>10</td>\n",
       "      <td>honey</td>\n",
       "    </tr>\n",
       "    <tr>\n",
       "      <th>132</th>\n",
       "      <td>10</td>\n",
       "      <td>salt</td>\n",
       "    </tr>\n",
       "    <tr>\n",
       "      <th>133</th>\n",
       "      <td>10</td>\n",
       "      <td>pepper</td>\n",
       "    </tr>\n",
       "  </tbody>\n",
       "</table>\n",
       "</div>"
      ],
      "text/plain": [
       "     ID    Ingredients\n",
       "126  10         garlic\n",
       "127  10      sourdough\n",
       "128  10    goat cheese\n",
       "129  10         chives\n",
       "130  10  sunflower oil\n",
       "131  10          honey\n",
       "132  10           salt\n",
       "133  10         pepper"
      ]
     },
     "metadata": {},
     "output_type": "display_data"
    },
    {
     "data": {
      "text/html": [
       "<div>\n",
       "<style scoped>\n",
       "    .dataframe tbody tr th:only-of-type {\n",
       "        vertical-align: middle;\n",
       "    }\n",
       "\n",
       "    .dataframe tbody tr th {\n",
       "        vertical-align: top;\n",
       "    }\n",
       "\n",
       "    .dataframe thead th {\n",
       "        text-align: right;\n",
       "    }\n",
       "</style>\n",
       "<table border=\"1\" class=\"dataframe\">\n",
       "  <thead>\n",
       "    <tr style=\"text-align: right;\">\n",
       "      <th></th>\n",
       "      <th>ID</th>\n",
       "      <th>Steps</th>\n",
       "    </tr>\n",
       "  </thead>\n",
       "  <tbody>\n",
       "    <tr>\n",
       "      <th>159</th>\n",
       "      <td>10</td>\n",
       "      <td>preheat your oven to 130c.</td>\n",
       "    </tr>\n",
       "    <tr>\n",
       "      <th>160</th>\n",
       "      <td>10</td>\n",
       "      <td>halve the bulbs of garlic through the middle and place into a small saucepan.</td>\n",
       "    </tr>\n",
       "    <tr>\n",
       "      <th>161</th>\n",
       "      <td>10</td>\n",
       "      <td>fill with oil until submerged and then place into the oven for 1 hour.</td>\n",
       "    </tr>\n",
       "    <tr>\n",
       "      <th>162</th>\n",
       "      <td>10</td>\n",
       "      <td>meanwhile, toast the sourdough and spread with a generous layer of goats cheese.</td>\n",
       "    </tr>\n",
       "    <tr>\n",
       "      <th>163</th>\n",
       "      <td>10</td>\n",
       "      <td>finely slice the chives and sprinkle over, along with a pinch of salt and some black pepper.</td>\n",
       "    </tr>\n",
       "    <tr>\n",
       "      <th>164</th>\n",
       "      <td>10</td>\n",
       "      <td>once the garlic is cooked, remove from the oven and allow to cool for about 10 mins.</td>\n",
       "    </tr>\n",
       "    <tr>\n",
       "      <th>165</th>\n",
       "      <td>10</td>\n",
       "      <td>remove and squeeze over the toast, then spread.</td>\n",
       "    </tr>\n",
       "    <tr>\n",
       "      <th>166</th>\n",
       "      <td>10</td>\n",
       "      <td>sprinkle with a pinch of salt, drizzle over the honey and enjoy.</td>\n",
       "    </tr>\n",
       "  </tbody>\n",
       "</table>\n",
       "</div>"
      ],
      "text/plain": [
       "     ID  \\\n",
       "159  10   \n",
       "160  10   \n",
       "161  10   \n",
       "162  10   \n",
       "163  10   \n",
       "164  10   \n",
       "165  10   \n",
       "166  10   \n",
       "\n",
       "                                                                                            Steps  \n",
       "159                                                                    preheat your oven to 130c.  \n",
       "160                 halve the bulbs of garlic through the middle and place into a small saucepan.  \n",
       "161                        fill with oil until submerged and then place into the oven for 1 hour.  \n",
       "162              meanwhile, toast the sourdough and spread with a generous layer of goats cheese.  \n",
       "163  finely slice the chives and sprinkle over, along with a pinch of salt and some black pepper.  \n",
       "164          once the garlic is cooked, remove from the oven and allow to cool for about 10 mins.  \n",
       "165                                               remove and squeeze over the toast, then spread.  \n",
       "166                              sprinkle with a pinch of salt, drizzle over the honey and enjoy.  "
      ]
     },
     "metadata": {},
     "output_type": "display_data"
    }
   ],
   "source": [
    "ID = 10\n",
    "\n",
    "display(len(df_INQ[df_INQ['ID'] == str(ID)]))\n",
    "display(df_ingredients[df_ingredients['ID'] == str(ID)])\n",
    "display(df_steps[df_steps['ID'] == str(ID)])"
   ]
  },
  {
   "cell_type": "code",
   "execution_count": 46,
   "metadata": {},
   "outputs": [],
   "source": [
    "test_re = re.compile(\"([0-9]*\\.?[0-9]*) ?(\\( ([0-9]*) ([a-z]*) \\))? ([a-z]*) (?:of )?(.*)\")"
   ]
  },
  {
   "cell_type": "code",
   "execution_count": 53,
   "metadata": {},
   "outputs": [
    {
     "data": {
      "text/plain": [
       "['4', None, None, None, 'slices', 'sourdough']"
      ]
     },
     "execution_count": 53,
     "metadata": {},
     "output_type": "execute_result"
    }
   ],
   "source": [
    "list(test_re.match(\"4 slices sourdough\").groups())"
   ]
  },
  {
   "cell_type": "code",
   "execution_count": 56,
   "metadata": {},
   "outputs": [
    {
     "data": {
      "text/plain": [
       "2296"
      ]
     },
     "metadata": {},
     "output_type": "display_data"
    },
    {
     "data": {
      "text/plain": [
       "2299"
      ]
     },
     "metadata": {},
     "output_type": "display_data"
    }
   ],
   "source": [
    "display(len(df_steps['ID'].unique()))\n",
    "display(len(df_ingredients['ID'].unique()))"
   ]
  },
  {
   "cell_type": "code",
   "execution_count": 102,
   "metadata": {},
   "outputs": [],
   "source": [
    "dup_ids = set()\n",
    "\n",
    "a = df_steps['ID'].unique()\n",
    "\n",
    "for i in df_ingredients['ID'].unique():\n",
    "    if i not in a:\n",
    "        dup_ids.add(str(i))\n",
    "    elif len(df_INQ[df_INQ['ID'] == i]) != len(df_ingredients[df_ingredients['ID'] == i]):\n",
    "        dup_ids.add(i)"
   ]
  },
  {
   "cell_type": "code",
   "execution_count": null,
   "metadata": {},
   "outputs": [],
   "source": [
    "dup_ids"
   ]
  },
  {
   "cell_type": "code",
   "execution_count": 107,
   "metadata": {},
   "outputs": [],
   "source": [
    "list_dup_ids = list(dup_ids)\n",
    "\n",
    "df_INQ_clean = df_INQ[~df_INQ['ID'].isin(list_dup_ids)].reset_index(drop=True)\n",
    "df_ingredients_clean = df_ingredients[~df_ingredients['ID'].isin(list_dup_ids)].reset_index(drop=True)\n",
    "df_steps_clean = df_steps[~df_steps['ID'].isin(list_dup_ids)].reset_index(drop=True)\n",
    "\n",
    "# df_ingredients[df_ingredients['ID'] == str(ID)])\n",
    "# df_steps[df_steps['ID'] == str(ID)])"
   ]
  },
  {
   "cell_type": "code",
   "execution_count": 111,
   "metadata": {},
   "outputs": [],
   "source": [
    "assert len(df_INQ_clean['ID'].unique()) == len(df_ingredients_clean['ID'].unique()) == len(df_steps_clean['ID'].unique())"
   ]
  },
  {
   "cell_type": "code",
   "execution_count": 113,
   "metadata": {},
   "outputs": [
    {
     "data": {
      "text/html": [
       "<div>\n",
       "<style scoped>\n",
       "    .dataframe tbody tr th:only-of-type {\n",
       "        vertical-align: middle;\n",
       "    }\n",
       "\n",
       "    .dataframe tbody tr th {\n",
       "        vertical-align: top;\n",
       "    }\n",
       "\n",
       "    .dataframe thead th {\n",
       "        text-align: right;\n",
       "    }\n",
       "</style>\n",
       "<table border=\"1\" class=\"dataframe\">\n",
       "  <thead>\n",
       "    <tr style=\"text-align: right;\">\n",
       "      <th></th>\n",
       "      <th>ID</th>\n",
       "      <th>INQs</th>\n",
       "    </tr>\n",
       "  </thead>\n",
       "  <tbody>\n",
       "    <tr>\n",
       "      <th>0</th>\n",
       "      <td>2</td>\n",
       "      <td>500g asparagus</td>\n",
       "    </tr>\n",
       "    <tr>\n",
       "      <th>1</th>\n",
       "      <td>2</td>\n",
       "      <td>300g butter</td>\n",
       "    </tr>\n",
       "    <tr>\n",
       "      <th>2</th>\n",
       "      <td>2</td>\n",
       "      <td>4 egg yolks</td>\n",
       "    </tr>\n",
       "    <tr>\n",
       "      <th>3</th>\n",
       "      <td>2</td>\n",
       "      <td>4 slices of sourdough</td>\n",
       "    </tr>\n",
       "    <tr>\n",
       "      <th>4</th>\n",
       "      <td>2</td>\n",
       "      <td>2 tsp white wine vinegar</td>\n",
       "    </tr>\n",
       "    <tr>\n",
       "      <th>...</th>\n",
       "      <td>...</td>\n",
       "      <td>...</td>\n",
       "    </tr>\n",
       "    <tr>\n",
       "      <th>20405</th>\n",
       "      <td>902</td>\n",
       "      <td>1 small frozen banana (or half of a large banana)</td>\n",
       "    </tr>\n",
       "    <tr>\n",
       "      <th>20406</th>\n",
       "      <td>902</td>\n",
       "      <td>1 cup almond milk</td>\n",
       "    </tr>\n",
       "    <tr>\n",
       "      <th>20407</th>\n",
       "      <td>902</td>\n",
       "      <td>3.5 oz packet frozen acai</td>\n",
       "    </tr>\n",
       "    <tr>\n",
       "      <th>20408</th>\n",
       "      <td>903</td>\n",
       "      <td>1 small frozen banana (or half of a large banana)</td>\n",
       "    </tr>\n",
       "    <tr>\n",
       "      <th>20409</th>\n",
       "      <td>903</td>\n",
       "      <td>1 cup almond milk</td>\n",
       "    </tr>\n",
       "  </tbody>\n",
       "</table>\n",
       "<p>20410 rows × 2 columns</p>\n",
       "</div>"
      ],
      "text/plain": [
       "        ID                                               INQs\n",
       "0        2                                     500g asparagus\n",
       "1        2                                        300g butter\n",
       "2        2                                        4 egg yolks\n",
       "3        2                              4 slices of sourdough\n",
       "4        2                           2 tsp white wine vinegar\n",
       "...    ...                                                ...\n",
       "20405  902  1 small frozen banana (or half of a large banana)\n",
       "20406  902                                  1 cup almond milk\n",
       "20407  902                          3.5 oz packet frozen acai\n",
       "20408  903  1 small frozen banana (or half of a large banana)\n",
       "20409  903                                  1 cup almond milk\n",
       "\n",
       "[20410 rows x 2 columns]"
      ]
     },
     "execution_count": 113,
     "metadata": {},
     "output_type": "execute_result"
    }
   ],
   "source": [
    "df_INQ_clean"
   ]
  },
  {
   "cell_type": "code",
   "execution_count": 112,
   "metadata": {},
   "outputs": [],
   "source": [
    "df_INQ_clean.to_csv('df_INQ_clean.csv', index=False)\n",
    "df_ingredients_clean.to_csv('df_ingredients_clean.csv', index=False)\n",
    "df_steps_clean.to_csv('df_steps_clean.csv', index=False)"
   ]
  },
  {
   "cell_type": "code",
   "execution_count": 62,
   "metadata": {
    "metadata": {}
   },
   "outputs": [],
   "source": [
    "test_df = df_INQ.copy(deep=True)"
   ]
  },
  {
   "cell_type": "code",
   "execution_count": 58,
   "metadata": {
    "metadata": {}
   },
   "outputs": [],
   "source": [
    "add_space_re = re.compile('([0-9]+)([a-z]+ )')\n",
    "\n",
    "convert_to_float_re = re.compile('([0-9]* )?([0-9])/([0-9]*)')\n",
    "\n",
    "def add_space(matchobj):\n",
    "    return matchobj.group(1) + ' ' + matchobj.group(2)\n",
    "\n",
    "def to_float(matchobj):\n",
    "    if matchobj.group(1) is not None and matchobj.group(1) != ' ':\n",
    "        try:\n",
    "            return str(float(matchobj.group(1)) + (float(matchobj.group(2)) / float(matchobj.group(3))))\n",
    "        except:\n",
    "            print(matchobj.group(1) is None)\n",
    "    return str((float(matchobj.group(2)) / float(matchobj.group(3))))"
   ]
  },
  {
   "cell_type": "code",
   "execution_count": 60,
   "metadata": {
    "metadata": {}
   },
   "outputs": [],
   "source": [
    "test_df['INQs'] = test_df['INQs'].apply(lambda t: re.sub(add_space_re, add_space, t))\n",
    "test_df['INQs'] = test_df['INQs'].apply(lambda t: re.sub(convert_to_float_re, to_float, t))"
   ]
  },
  {
   "cell_type": "code",
   "execution_count": 118,
   "metadata": {},
   "outputs": [
    {
     "name": "stdout",
     "output_type": "stream",
     "text": [
      "2.0.3\n"
     ]
    }
   ],
   "source": [
    "print(pd.__version__)\n"
   ]
  },
  {
   "cell_type": "code",
   "execution_count": 31,
   "metadata": {
    "metadata": {}
   },
   "outputs": [
    {
     "data": {
      "text/html": [
       "<div>\n",
       "<style scoped>\n",
       "    .dataframe tbody tr th:only-of-type {\n",
       "        vertical-align: middle;\n",
       "    }\n",
       "\n",
       "    .dataframe tbody tr th {\n",
       "        vertical-align: top;\n",
       "    }\n",
       "\n",
       "    .dataframe thead th {\n",
       "        text-align: right;\n",
       "    }\n",
       "</style>\n",
       "<table border=\"1\" class=\"dataframe\">\n",
       "  <thead>\n",
       "    <tr style=\"text-align: right;\">\n",
       "      <th></th>\n",
       "      <th>ID</th>\n",
       "      <th>INQs</th>\n",
       "    </tr>\n",
       "  </thead>\n",
       "  <tbody>\n",
       "    <tr>\n",
       "      <th>0</th>\n",
       "      <td>1</td>\n",
       "      <td>4   tbsps gochujang</td>\n",
       "    </tr>\n",
       "    <tr>\n",
       "      <th>1</th>\n",
       "      <td>1</td>\n",
       "      <td>6   tbsps ketchup</td>\n",
       "    </tr>\n",
       "    <tr>\n",
       "      <th>2</th>\n",
       "      <td>1</td>\n",
       "      <td>6   tbsps  maple syrup</td>\n",
       "    </tr>\n",
       "    <tr>\n",
       "      <th>3</th>\n",
       "      <td>1</td>\n",
       "      <td>4   tbsps  soy sauce</td>\n",
       "    </tr>\n",
       "    <tr>\n",
       "      <th>4</th>\n",
       "      <td>1</td>\n",
       "      <td>2   tbsps  rice  wine vinegar</td>\n",
       "    </tr>\n",
       "    <tr>\n",
       "      <th>...</th>\n",
       "      <td>...</td>\n",
       "      <td>...</td>\n",
       "    </tr>\n",
       "    <tr>\n",
       "      <th>26127</th>\n",
       "      <td>902</td>\n",
       "      <td>1   small  frozen  banana ( or  half  of  a  large banana)</td>\n",
       "    </tr>\n",
       "    <tr>\n",
       "      <th>26128</th>\n",
       "      <td>902</td>\n",
       "      <td>1   cup  almond milk</td>\n",
       "    </tr>\n",
       "    <tr>\n",
       "      <th>26129</th>\n",
       "      <td>902</td>\n",
       "      <td>3.5   oz  packet  frozen acai</td>\n",
       "    </tr>\n",
       "    <tr>\n",
       "      <th>26130</th>\n",
       "      <td>903</td>\n",
       "      <td>1   small  frozen  banana ( or  half  of  a  large banana)</td>\n",
       "    </tr>\n",
       "    <tr>\n",
       "      <th>26131</th>\n",
       "      <td>903</td>\n",
       "      <td>1   cup  almond milk</td>\n",
       "    </tr>\n",
       "  </tbody>\n",
       "</table>\n",
       "<p>26132 rows × 2 columns</p>\n",
       "</div>"
      ],
      "text/plain": [
       "        ID                                                        INQs\n",
       "0        1                                         4   tbsps gochujang\n",
       "1        1                                           6   tbsps ketchup\n",
       "2        1                                      6   tbsps  maple syrup\n",
       "3        1                                        4   tbsps  soy sauce\n",
       "4        1                               2   tbsps  rice  wine vinegar\n",
       "...    ...                                                         ...\n",
       "26127  902  1   small  frozen  banana ( or  half  of  a  large banana)\n",
       "26128  902                                        1   cup  almond milk\n",
       "26129  902                               3.5   oz  packet  frozen acai\n",
       "26130  903  1   small  frozen  banana ( or  half  of  a  large banana)\n",
       "26131  903                                        1   cup  almond milk\n",
       "\n",
       "[26132 rows x 2 columns]"
      ]
     },
     "execution_count": 31,
     "metadata": {},
     "output_type": "execute_result"
    }
   ],
   "source": [
    "test_df"
   ]
  },
  {
   "cell_type": "code",
   "execution_count": 57,
   "metadata": {
    "metadata": {}
   },
   "outputs": [
    {
     "data": {
      "text/plain": [
       "'4  tbsps gochujang'"
      ]
     },
     "execution_count": 57,
     "metadata": {},
     "output_type": "execute_result"
    }
   ],
   "source": [
    "re.sub(add_space_re, add_space, '4 tbsps gochujang')"
   ]
  },
  {
   "cell_type": "code",
   "execution_count": 56,
   "metadata": {
    "metadata": {}
   },
   "outputs": [
    {
     "ename": "AttributeError",
     "evalue": "'NoneType' object has no attribute 'group'",
     "output_type": "error",
     "traceback": [
      "\u001b[1;31m---------------------------------------------------------------------------\u001b[0m",
      "\u001b[1;31mAttributeError\u001b[0m                            Traceback (most recent call last)",
      "Cell \u001b[1;32mIn[56], line 1\u001b[0m\n\u001b[1;32m----> 1\u001b[0m \u001b[43madd_space_re\u001b[49m\u001b[38;5;241;43m.\u001b[39;49m\u001b[43mmatch\u001b[49m\u001b[43m(\u001b[49m\u001b[38;5;124;43m'\u001b[39;49m\u001b[38;5;124;43m4 tbsps gochujang\u001b[39;49m\u001b[38;5;124;43m'\u001b[39;49m\u001b[43m)\u001b[49m\u001b[38;5;241;43m.\u001b[39;49m\u001b[43mgroup\u001b[49m(\u001b[38;5;241m1\u001b[39m)\n",
      "\u001b[1;31mAttributeError\u001b[0m: 'NoneType' object has no attribute 'group'"
     ]
    }
   ],
   "source": [
    "add_space_re.match('4 tbsps gochujang').group(1)"
   ]
  },
  {
   "cell_type": "code",
   "execution_count": 63,
   "metadata": {
    "metadata": {}
   },
   "outputs": [],
   "source": [
    "test_df.to_csv('df_INQ_test.csv', index=False)"
   ]
  },
  {
   "cell_type": "code",
   "execution_count": 37,
   "metadata": {
    "metadata": {}
   },
   "outputs": [
    {
     "data": {
      "text/html": [
       "<div>\n",
       "<style scoped>\n",
       "    .dataframe tbody tr th:only-of-type {\n",
       "        vertical-align: middle;\n",
       "    }\n",
       "\n",
       "    .dataframe tbody tr th {\n",
       "        vertical-align: top;\n",
       "    }\n",
       "\n",
       "    .dataframe thead th {\n",
       "        text-align: right;\n",
       "    }\n",
       "</style>\n",
       "<table border=\"1\" class=\"dataframe\">\n",
       "  <thead>\n",
       "    <tr style=\"text-align: right;\">\n",
       "      <th></th>\n",
       "      <th>ID</th>\n",
       "      <th>INQs</th>\n",
       "    </tr>\n",
       "  </thead>\n",
       "  <tbody>\n",
       "    <tr>\n",
       "      <th>0</th>\n",
       "      <td>1</td>\n",
       "      <td>4   tbsps gochujang</td>\n",
       "    </tr>\n",
       "    <tr>\n",
       "      <th>1</th>\n",
       "      <td>1</td>\n",
       "      <td>6   tbsps ketchup</td>\n",
       "    </tr>\n",
       "    <tr>\n",
       "      <th>2</th>\n",
       "      <td>1</td>\n",
       "      <td>6   tbsps  maple syrup</td>\n",
       "    </tr>\n",
       "    <tr>\n",
       "      <th>3</th>\n",
       "      <td>1</td>\n",
       "      <td>4   tbsps  soy sauce</td>\n",
       "    </tr>\n",
       "    <tr>\n",
       "      <th>4</th>\n",
       "      <td>1</td>\n",
       "      <td>2   tbsps  rice  wine vinegar</td>\n",
       "    </tr>\n",
       "    <tr>\n",
       "      <th>...</th>\n",
       "      <td>...</td>\n",
       "      <td>...</td>\n",
       "    </tr>\n",
       "    <tr>\n",
       "      <th>26127</th>\n",
       "      <td>902</td>\n",
       "      <td>1   small  frozen  banana ( or  half  of  a  large banana)</td>\n",
       "    </tr>\n",
       "    <tr>\n",
       "      <th>26128</th>\n",
       "      <td>902</td>\n",
       "      <td>1   cup  almond milk</td>\n",
       "    </tr>\n",
       "    <tr>\n",
       "      <th>26129</th>\n",
       "      <td>902</td>\n",
       "      <td>3.5   oz  packet  frozen acai</td>\n",
       "    </tr>\n",
       "    <tr>\n",
       "      <th>26130</th>\n",
       "      <td>903</td>\n",
       "      <td>1   small  frozen  banana ( or  half  of  a  large banana)</td>\n",
       "    </tr>\n",
       "    <tr>\n",
       "      <th>26131</th>\n",
       "      <td>903</td>\n",
       "      <td>1   cup  almond milk</td>\n",
       "    </tr>\n",
       "  </tbody>\n",
       "</table>\n",
       "<p>26132 rows × 2 columns</p>\n",
       "</div>"
      ],
      "text/plain": [
       "        ID                                                        INQs\n",
       "0        1                                         4   tbsps gochujang\n",
       "1        1                                           6   tbsps ketchup\n",
       "2        1                                      6   tbsps  maple syrup\n",
       "3        1                                        4   tbsps  soy sauce\n",
       "4        1                               2   tbsps  rice  wine vinegar\n",
       "...    ...                                                         ...\n",
       "26127  902  1   small  frozen  banana ( or  half  of  a  large banana)\n",
       "26128  902                                        1   cup  almond milk\n",
       "26129  902                               3.5   oz  packet  frozen acai\n",
       "26130  903  1   small  frozen  banana ( or  half  of  a  large banana)\n",
       "26131  903                                        1   cup  almond milk\n",
       "\n",
       "[26132 rows x 2 columns]"
      ]
     },
     "execution_count": 37,
     "metadata": {},
     "output_type": "execute_result"
    }
   ],
   "source": [
    "test_df"
   ]
  },
  {
   "cell_type": "code",
   "execution_count": 64,
   "metadata": {
    "metadata": {}
   },
   "outputs": [
    {
     "data": {
      "text/plain": [
       "'100 g parmesan, plus more for sprinkling'"
      ]
     },
     "execution_count": 64,
     "metadata": {},
     "output_type": "execute_result"
    }
   ],
   "source": [
    "re.sub(r'(\\\")', '', '\"100 g parmesan, plus more for sprinkling\"')"
   ]
  },
  {
   "cell_type": "code",
   "execution_count": null,
   "metadata": {},
   "outputs": [],
   "source": []
  }
 ],
 "metadata": {
  "kernelspec": {
   "display_name": "base",
   "language": "python",
   "name": "python3"
  },
  "language_info": {
   "codemirror_mode": {
    "name": "ipython",
    "version": 3
   },
   "file_extension": ".py",
   "mimetype": "text/x-python",
   "name": "python",
   "nbconvert_exporter": "python",
   "pygments_lexer": "ipython3",
   "version": "3.9.18"
  }
 },
 "nbformat": 4,
 "nbformat_minor": 2
}
